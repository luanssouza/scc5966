{
 "cells": [
  {
   "cell_type": "code",
   "execution_count": 1,
   "metadata": {},
   "outputs": [],
   "source": [
    "import pandas as pd\n",
    "import numpy as np\n",
    "import math"
   ]
  },
  {
   "cell_type": "code",
   "execution_count": 3,
   "metadata": {},
   "outputs": [],
   "source": [
    "# Importando .csv\n",
    "df = pd.read_csv('dataset/train_data.csv')\n",
    "\n",
    "# Criando Matrix User X Movie\n",
    "df_u_m = df.pivot(index='user_id', columns='movie_id', values='rating')\n",
    "\n",
    "# Criando Matrix Movie X User\n",
    "df_m_u = df.pivot(index='movie_id', columns='user_id', values='rating')"
   ]
  },
  {
   "cell_type": "code",
   "execution_count": 39,
   "metadata": {
    "tags": []
   },
   "outputs": [
    {
     "output_type": "stream",
     "name": "stdout",
     "text": "4.307789426944338\n"
    }
   ],
   "source": [
    "# Trabalhando com método baseline\n",
    "mean = df_u_m.stack().mean(skipna = True)\n",
    "\n",
    "def item_bias(col):\n",
    "    return col.mean(skipna = True) - mean\n",
    "    \n",
    "# TODO row - mean - bi\n",
    "def user_bias(col):\n",
    "    return col.mean(skipna = True) - mean\n",
    "\n",
    "print(mean + user_bias(df_m_u[1]) + item_bias(df_u_m[1]))"
   ]
  },
  {
   "cell_type": "code",
   "execution_count": null,
   "metadata": {},
   "outputs": [],
   "source": []
  }
 ],
 "metadata": {
  "language_info": {
   "codemirror_mode": {
    "name": "ipython",
    "version": 3
   },
   "file_extension": ".py",
   "mimetype": "text/x-python",
   "name": "python",
   "nbconvert_exporter": "python",
   "pygments_lexer": "ipython3",
   "version": "3.7.5-final"
  },
  "orig_nbformat": 2,
  "kernelspec": {
   "name": "python37564bitenvvenv0051dd1aa89b40c684020d4944b45907",
   "display_name": "Python 3.7.5 64-bit ('.env': venv)"
  }
 },
 "nbformat": 4,
 "nbformat_minor": 2
}