{
 "cells": [
  {
   "cell_type": "code",
   "execution_count": 1,
   "metadata": {},
   "outputs": [],
   "source": [
    "import pandas as pd\n",
    "import numpy as np\n",
    "import math"
   ]
  },
  {
   "cell_type": "code",
   "execution_count": 2,
   "metadata": {},
   "outputs": [],
   "source": [
    "# Importando .csv\n",
    "df = pd.read_csv('dataset/train_data.csv')"
   ]
  },
  {
   "cell_type": "code",
   "execution_count": 31,
   "metadata": {},
   "outputs": [],
   "source": [
    "# Implementando baseline\n",
    "def baseline(R):\n",
    "    mean = R[\"rating\"].mean(skipna = True)\n",
    "    users = R.pivot(index='movie_id', columns='user_id', values='rating')\n",
    "    items = R.pivot(index='user_id', columns='movie_id', values='rating')\n",
    "    nusers = R.values[:, 0].max()+1\n",
    "    nitems = R.values[:, 1].max()+1\n",
    "    bu = np.full(nusers, np.nan, dtype=float)\n",
    "    bi = np.full(nitems, np.nan, dtype=float)\n",
    "\n",
    "    for i in items.columns.values:\n",
    "        bi[i] = np.nanmean(items[i] - mean)\n",
    "\n",
    "    aux = bi[~np.isnan(bi)]\n",
    "    for u in users.columns.values:\n",
    "        bu[u] = np.nanmean(users[u] - mean - aux)\n",
    "\n",
    "    return { \"bu\" : bu, \"bi\": bi, \"mean\": mean }"
   ]
  },
  {
   "cell_type": "code",
   "execution_count": 25,
   "metadata": {},
   "outputs": [],
   "source": [
    "# Predizendo nota\n",
    "def predict(model, u, i):\n",
    "    return model[\"mean\"] + model[\"bu\"][u] + model[\"bi\"][i]"
   ]
  },
  {
   "cell_type": "code",
   "execution_count": 5,
   "metadata": {},
   "outputs": [],
   "source": [
    "# Avaliando predições\n",
    "def rmse(model, test):\n",
    "    sum_err = 0\n",
    "    for t in test:\n",
    "        u = t[0]\n",
    "        i = t[1]\n",
    "        r_ui = t[2]\n",
    "        pred = predict(model, u, i)\n",
    "        error = (r_ui - pred)**2\n",
    "        sum_err += error\n",
    "    return math.sqrt(sum_err/len(test))"
   ]
  },
  {
   "cell_type": "code",
   "execution_count": 32,
   "metadata": {
    "tags": []
   },
   "outputs": [],
   "source": [
    "baseline = baseline(df)"
   ]
  },
  {
   "cell_type": "code",
   "execution_count": 33,
   "metadata": {
    "tags": []
   },
   "outputs": [
    {
     "output_type": "execute_result",
     "data": {
      "text/plain": "0.890356975214376"
     },
     "metadata": {},
     "execution_count": 33
    }
   ],
   "source": [
    "rmse(baseline, df.values[401838:])"
   ]
  },
  {
   "cell_type": "code",
   "execution_count": null,
   "metadata": {},
   "outputs": [],
   "source": []
  }
 ],
 "metadata": {
  "language_info": {
   "codemirror_mode": {
    "name": "ipython",
    "version": 3
   },
   "file_extension": ".py",
   "mimetype": "text/x-python",
   "name": "python",
   "nbconvert_exporter": "python",
   "pygments_lexer": "ipython3",
   "version": "3.7.5-final"
  },
  "orig_nbformat": 2,
  "kernelspec": {
   "name": "python37564bitenvvenv0051dd1aa89b40c684020d4944b45907",
   "display_name": "Python 3.7.5 64-bit ('.env': venv)"
  }
 },
 "nbformat": 4,
 "nbformat_minor": 2
}