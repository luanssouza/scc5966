{
 "cells": [
  {
   "cell_type": "markdown",
   "metadata": {},
   "source": [
    "# Filtragem Baseada em Conteudo\n",
    "## Linear"
   ]
  },
  {
   "cell_type": "code",
   "execution_count": 2,
   "metadata": {},
   "outputs": [],
   "source": [
    "import pandas as pd\n",
    "import numpy as np\n",
    "import math"
   ]
  },
  {
   "cell_type": "code",
   "execution_count": 3,
   "metadata": {},
   "outputs": [],
   "source": [
    "# Importando .csv\n",
    "r = pd.read_csv('dataset/train_data.csv', header=None,  skiprows=[0], usecols=[0,1,2])\n",
    "m = pd.read_csv('dataset/movies_data.csv')\n",
    "\n",
    "# Obtendo generos dos filmes\n",
    "genres = pd.get_dummies(m.set_index(['movie_id']).genres.str.split('|', expand=True).stack(dropna=False)).sum(level=0)"
   ]
  },
  {
   "cell_type": "code",
   "execution_count": 45,
   "metadata": {},
   "outputs": [],
   "source": [
    "# Função para cria modelo\n",
    "def fbc_linear(train, test, features, lr = 0.05, reg = 0.002, miter = 10):\n",
    "    nusers = np.append(train[:,0], test[:,0]).max()\n",
    "    nitems = np.append(train[:,1], test[:,1]).max()\n",
    "    nfeatures = len(features[1])\n",
    "    features = np.hstack((features,np.ones((len(features),1))))\n",
    "    profiles = np.random.normal(loc = 0, scale = 0.1, size=(nusers, nfeatures+1))\n",
    "    error = list()\n",
    "    for l in range(0, miter):\n",
    "        sq_error = 0\n",
    "        for j in range(0, len(train)):\n",
    "            u = train[j, 0]-1\n",
    "            i = train[j, 1]-1\n",
    "            r_ui = train[j, 2]-1\n",
    "            e_ui = np.dot(profiles[u, ], features[i, ]) - r_ui\n",
    "            sq_error += e_ui**2\n",
    "            for k in range(nfeatures-1):\n",
    "                profiles[u, k] = profiles[u, k] - lr * (e_ui * features[i, k] + reg * profiles[u, k])\n",
    "            k = nfeatures\n",
    "            profiles[u, k] = profiles[u, k] - lr * (e_ui * features[i, k])\n",
    "        error.append(math.sqrt(sq_error/len(train)))\n",
    "    return { \"profiles\": profiles, \"error\": error }\n",
    "\n"
   ]
  },
  {
   "cell_type": "code",
   "execution_count": 48,
   "metadata": {},
   "outputs": [],
   "source": [
    "def predict(model, user, item, features):\n",
    "    features = np.hstack((features,np.ones((len(features),1))))\n",
    "    return np.dot(model[\"profiles\"][user, ], features[item, ])"
   ]
  },
  {
   "cell_type": "code",
   "execution_count": 46,
   "metadata": {},
   "outputs": [],
   "source": [
    "reviews = r.to_numpy()\n",
    "model = fbc_linear(reviews[:401838], reviews[401838:], genres.to_numpy())"
   ]
  },
  {
   "cell_type": "code",
   "execution_count": 51,
   "metadata": {},
   "outputs": [
    {
     "output_type": "execute_result",
     "data": {
      "text/plain": "3.635533837569428"
     },
     "metadata": {},
     "execution_count": 51
    }
   ],
   "source": [
    "predict(model,0, 64, genres.to_numpy())"
   ]
  },
  {
   "cell_type": "code",
   "execution_count": null,
   "metadata": {},
   "outputs": [],
   "source": []
  }
 ],
 "metadata": {
  "language_info": {
   "codemirror_mode": {
    "name": "ipython",
    "version": 3
   },
   "file_extension": ".py",
   "mimetype": "text/x-python",
   "name": "python",
   "nbconvert_exporter": "python",
   "pygments_lexer": "ipython3",
   "version": "3.7.5-final"
  },
  "orig_nbformat": 2,
  "kernelspec": {
   "name": "python37564bitenvvenv0051dd1aa89b40c684020d4944b45907",
   "display_name": "Python 3.7.5 64-bit ('.env': venv)"
  }
 },
 "nbformat": 4,
 "nbformat_minor": 2
}