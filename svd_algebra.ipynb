{
 "cells": [
  {
   "cell_type": "code",
   "execution_count": 52,
   "metadata": {},
   "outputs": [],
   "source": [
    "import pandas as pd\n",
    "import numpy as np\n",
    "from scipy.sparse.linalg import svds\n",
    "import math"
   ]
  },
  {
   "cell_type": "code",
   "execution_count": 35,
   "metadata": {},
   "outputs": [],
   "source": [
    "# Importando .csv\n",
    "df = pd.read_csv('dataset/train_data.csv')\n",
    "\n",
    "# Criando Matrix User X Movie\n",
    "df_u_m = df.pivot(index='user_id', columns='movie_id', values='rating')"
   ]
  },
  {
   "cell_type": "code",
   "execution_count": 71,
   "metadata": {
    "tags": []
   },
   "outputs": [],
   "source": [
    "# No SVD, o 0 representa valores desconhecidos\n",
    "df_u_m.fillna(value=0, inplace=True)\n",
    "U, s, Vh = np.linalg.svd(df_u_m.values)"
   ]
  },
  {
   "cell_type": "code",
   "execution_count": 113,
   "metadata": {},
   "outputs": [
    {
     "output_type": "execute_result",
     "data": {
      "text/plain": "-0.027577186637310267"
     },
     "metadata": {},
     "execution_count": 113
    }
   ],
   "source": [
    "def pred(u,s,v):\n",
    "    r = 0\n",
    "    for i in range(len(u)):\n",
    "        r += u[i]*s[i]*v[i]\n",
    "    return(r)\n",
    "pred(U[1][:4], s[:4], Vh[683][:4])"
   ]
  }
 ],
 "metadata": {
  "language_info": {
   "codemirror_mode": {
    "name": "ipython",
    "version": 3
   },
   "file_extension": ".py",
   "mimetype": "text/x-python",
   "name": "python",
   "nbconvert_exporter": "python",
   "pygments_lexer": "ipython3",
   "version": "3.7.5-final"
  },
  "orig_nbformat": 2,
  "kernelspec": {
   "name": "python37564bitenvvenv0051dd1aa89b40c684020d4944b45907",
   "display_name": "Python 3.7.5 64-bit ('.env': venv)"
  }
 },
 "nbformat": 4,
 "nbformat_minor": 2
}