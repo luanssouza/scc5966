{
 "cells": [
  {
   "cell_type": "markdown",
   "metadata": {},
   "source": [
    "# Gradiente descendente Estocástico"
   ]
  },
  {
   "cell_type": "code",
   "execution_count": 1,
   "metadata": {},
   "outputs": [],
   "source": [
    "import pandas as pd\n",
    "import numpy as np\n",
    "import math"
   ]
  },
  {
   "cell_type": "code",
   "execution_count": 2,
   "metadata": {},
   "outputs": [],
   "source": [
    "# Importando .csv\n",
    "df = pd.read_csv('dataset/train_data.csv', header=None,  skiprows=[0], usecols=[0,1,2])"
   ]
  },
  {
   "cell_type": "code",
   "execution_count": null,
   "metadata": {
    "tags": []
   },
   "outputs": [],
   "source": [
    "# Função FunkSVD\n",
    "def funkSVD(R, k, lr = 0.05, reg = 0.02, miter = 10):\n",
    "    global_mean = R[2].mean(skipna = True)\n",
    "    nusers = df[0].max()\n",
    "    nitems = df[1].max()\n",
    "    bu = np.full(nusers+1, 0)\n",
    "    bi = np.full(nusers+1, 0)\n",
    "    P = np.full((nusers+1, k), 0.1)\n",
    "    Q = np.full((nitems+1, k), 0.1)\n",
    "    for f in range(k):\n",
    "        for l in range(0, miter):\n",
    "            for j in range(0, len(R)):\n",
    "                u = R[0][j]\n",
    "                i = R[1][j]\n",
    "                r_ui = R[2][j]\n",
    "                pred = global_mean + bu[u] + bi[i] + np.dot(P[u, ], Q[i, ])\n",
    "                e_ui = r_ui - pred\n",
    "                bu[u] = bu[u] + lr * e_ui # - reg * bu[u]\n",
    "                bi[i] = bi[i] + lr * e_ui # - reg * bi[i]\n",
    "                temp_uf = P[u, f]\n",
    "                P[u, f] = P[u, f] + lr * (e_ui * Q[i, f] - reg * P[u, f])\n",
    "                Q[i, f] = Q[i, f] + lr * (e_ui * temp_uf - reg * Q[i, f])\n",
    "\n",
    "    return { \"global_mean\": global_mean, \"bu\": bu, \"bi\": bi, \"P\": P, \"Q\": Q }"
   ]
  },
  {
   "cell_type": "code",
   "execution_count": null,
   "metadata": {},
   "outputs": [],
   "source": [
    "funk = funkSVD(df, 4)"
   ]
  },
  {
   "cell_type": "code",
   "execution_count": null,
   "metadata": {},
   "outputs": [],
   "source": [
    "# nota do usuário id. 500 para o item id. 100:\n",
    "# pred <- funk$global_mean + funk$bu[500]\t+ funk$bi[100] + funk$P[500,] %*% funk$Q[100,]\t"
   ]
  },
  {
   "cell_type": "code",
   "execution_count": 3,
   "metadata": {},
   "outputs": [],
   "source": [
    "# Função Otimizado\n",
    "def svdopt(R, k, lr = 0.05, reg = 0.02,miter = 10):\n",
    "    global_mean = R[2].mean(skipna = True)\n",
    "    nusers = df[0].max()+1\n",
    "    nitems = df[1].max()+1\n",
    "    bu = np.full(nusers, 0, dtype=float)\n",
    "    bi = np.full(nusers, 0, dtype=float)\n",
    "    P = np.random.normal(loc = 0, scale = 0.1, size=(nusers, k))\n",
    "    Q = np.random.normal(loc = 0, scale = 0.1, size=(nitems, k))\n",
    "    error = list()\n",
    "    for l in range(0, miter):\n",
    "        sq_error = 0\n",
    "        for j in range(0, len(R)):\n",
    "            u = R[0][j]\n",
    "            i = R[1][j]\n",
    "            r_ui = R[2][j]\n",
    "            pred = global_mean + bu[u] + bi[i] + np.dot(P[u, ], Q[i, ])\n",
    "            e_ui = r_ui - pred\n",
    "            sq_error += e_ui**2\n",
    "            bu[u] += lr * e_ui # - reg * bu[u]\n",
    "            bi[i] += lr * e_ui # - reg * bi[i]\n",
    "            for f in range(k):\n",
    "                temp_uf = P[u, f]\n",
    "                P[u, f] = P[u, f] + lr * (e_ui * Q[i, f] - reg * P[u, f])\n",
    "                Q[i, f] = Q[i, f] + lr * (e_ui * temp_uf - reg * Q[i, f])\n",
    "        error.append(math.sqrt(sq_error/len(R)))\n",
    "\n",
    "    return { \"global_mean\": global_mean, \"bu\": bu, \"bi\": bi, \"P\": P, \"Q\": Q, \"error\": error }"
   ]
  },
  {
   "cell_type": "code",
   "execution_count": 4,
   "metadata": {
    "tags": []
   },
   "outputs": [],
   "source": [
    "svdopt = svdopt(df, 4)"
   ]
  },
  {
   "cell_type": "code",
   "execution_count": 5,
   "metadata": {},
   "outputs": [
    {
     "output_type": "execute_result",
     "data": {
      "text/plain": "4.6138285188334525"
     },
     "metadata": {},
     "execution_count": 5
    }
   ],
   "source": [
    "# Predizendo nota\n",
    "pred = svdopt[\"global_mean\"] + svdopt[\"bu\"][300] + svdopt[\"bi\"][683] + np.dot(svdopt[\"P\"][300], svdopt[\"Q\"][100])\n",
    "pred"
   ]
  },
  {
   "cell_type": "code",
   "execution_count": null,
   "metadata": {},
   "outputs": [],
   "source": []
  }
 ],
 "metadata": {
  "language_info": {
   "codemirror_mode": {
    "name": "ipython",
    "version": 3
   },
   "file_extension": ".py",
   "mimetype": "text/x-python",
   "name": "python",
   "nbconvert_exporter": "python",
   "pygments_lexer": "ipython3",
   "version": "3.7.5-final"
  },
  "orig_nbformat": 2,
  "kernelspec": {
   "name": "python37564bitenvvenv0051dd1aa89b40c684020d4944b45907",
   "display_name": "Python 3.7.5 64-bit ('.env': venv)"
  }
 },
 "nbformat": 4,
 "nbformat_minor": 2
}