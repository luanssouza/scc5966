{
 "cells": [
  {
   "cell_type": "markdown",
   "metadata": {},
   "source": [
    "# Filtragem Baseada em Conteudo\n",
    "## KNN"
   ]
  },
  {
   "cell_type": "code",
   "execution_count": 1,
   "metadata": {},
   "outputs": [],
   "source": [
    "import pandas as pd\n",
    "import numpy as np\n",
    "from scipy.spatial import distance\n",
    "import math"
   ]
  },
  {
   "cell_type": "code",
   "execution_count": 2,
   "metadata": {},
   "outputs": [],
   "source": [
    "# Não precisamos considerar viús do usuário\n",
    "# A similariadade será feita com Jaccard e os metadados servem para calcular a similaridade dos itens"
   ]
  },
  {
   "cell_type": "code",
   "execution_count": 3,
   "metadata": {},
   "outputs": [],
   "source": [
    "# Importando .csv\n",
    "r = pd.read_csv('dataset/train_data.csv', header=None,  skiprows=[0], usecols=[0,1,2])\n",
    "m = pd.read_csv('dataset/movies_data.csv')\n",
    "\n",
    "# Obtendo generos dos filmes\n",
    "genres = pd.get_dummies(m.set_index(['movie_id']).genres.str.split('|', expand=True).stack(dropna=False)).sum(level=0)"
   ]
  },
  {
   "cell_type": "code",
   "execution_count": 4,
   "metadata": {},
   "outputs": [],
   "source": [
    "# Função para cria modelo\n",
    "def fbc_knn(train, features, K = 4):\n",
    "    ratings = r.pivot(index=1, columns=0, values=2)\n",
    "    ratings.fillna(0.0, inplace=True)\n",
    "    # Calculando similaridade Jaccard\n",
    "    sim = genres.T.corr(method=distance.jaccard) # features.corr(method=distance.jaccard)\n",
    "    sim.fillna(0.0, inplace=True)\n",
    "\n",
    "    return { \"sim\": sim, \"K\": K, \"ratings\": ratings }"
   ]
  },
  {
   "cell_type": "code",
   "execution_count": 5,
   "metadata": {},
   "outputs": [],
   "source": [
    "model = fbc_knn(r, genres)"
   ]
  },
  {
   "cell_type": "code",
   "execution_count": 6,
   "metadata": {},
   "outputs": [],
   "source": [
    "# Função de predição\n",
    "def predict(model, user, item, k = 5):\n",
    "    sim_items = np.argsort(-model[\"sim\"][item])\n",
    "    rated_items = model[\"ratings\"][user].index[model[\"ratings\"][user] > 0].tolist()\n",
    "    sim_k = np.intersect1d(sim_items, rated_items)\n",
    "    sim_k = [x for x in sim_items if x in sim_k][:k]\n",
    "    sumSim = 0.0\n",
    "    sumWeight = 0.0\n",
    "    for j in sim_k:\n",
    "        sumSim += model[\"sim\"][item][j]\n",
    "        sumWeight += model[\"sim\"][item][j] * model[\"ratings\"][user][j]\n",
    "    if sumSim == 0.0:\n",
    "        return 0\n",
    "\n",
    "    return sumWeight/sumSim"
   ]
  },
  {
   "cell_type": "code",
   "execution_count": 7,
   "metadata": {
    "tags": []
   },
   "outputs": [],
   "source": [
    "# Avaliando predições\n",
    "def rmse(model, test):\n",
    "    sum_err = 0\n",
    "    for t in test:\n",
    "        u = t[0]\n",
    "        i = t[1]\n",
    "        r_ui = t[2]\n",
    "        pred = predict(model, u, i)\n",
    "        error = (r_ui - pred)**2\n",
    "        sum_err += error\n",
    "    return math.sqrt(sum_err/len(test))"
   ]
  },
  {
   "cell_type": "code",
   "execution_count": 8,
   "metadata": {
    "tags": []
   },
   "outputs": [
    {
     "output_type": "execute_result",
     "data": {
      "text/plain": "1.1847087913695233"
     },
     "metadata": {},
     "execution_count": 8
    }
   ],
   "source": [
    "rmse(model, r.values[535000:])"
   ]
  },
  {
   "cell_type": "code",
   "execution_count": null,
   "metadata": {},
   "outputs": [],
   "source": []
  }
 ],
 "metadata": {
  "language_info": {
   "codemirror_mode": {
    "name": "ipython",
    "version": 3
   },
   "file_extension": ".py",
   "mimetype": "text/x-python",
   "name": "python",
   "nbconvert_exporter": "python",
   "pygments_lexer": "ipython3",
   "version": "3.7.5-final"
  },
  "orig_nbformat": 2,
  "kernelspec": {
   "name": "python37564bitenvvenv0051dd1aa89b40c684020d4944b45907",
   "display_name": "Python 3.7.5 64-bit ('.env': venv)"
  }
 },
 "nbformat": 4,
 "nbformat_minor": 2
}