{
 "cells": [
  {
   "cell_type": "code",
   "execution_count": 1,
   "metadata": {},
   "outputs": [],
   "source": [
    "import pandas as pd\n",
    "import numpy as np\n",
    "import math"
   ]
  },
  {
   "cell_type": "code",
   "execution_count": 14,
   "metadata": {},
   "outputs": [],
   "source": [
    "# Importando .csv\n",
    "train = pd.read_csv('dataset/train_data.csv')\n",
    "test = pd.read_csv('dataset/test_data.csv')\n",
    "\n",
    "# Criando Matrix User X Movie\n",
    "# df_u_m = train.pivot(index='user_id', columns='movie_id', values='rating')\n",
    "\n",
    "# Criando Matrix Movie X User\n",
    "df_m_u = train.pivot(index='movie_id', columns='user_id', values='rating')"
   ]
  },
  {
   "cell_type": "code",
   "execution_count": 3,
   "metadata": {},
   "outputs": [],
   "source": [
    "# Calculando similaridade de usuários com correlação de Pearson\n",
    "def sim(u, v):\n",
    "  # Preciso considerar apenas os itens avaliados por ambos os usuários\n",
    "  sum_iuv = 0\n",
    "  sum_sqrt_iu = 0\n",
    "  sum_sqrt_iv = 0\n",
    "  vies_u = u.mean(skipna = True)\n",
    "  vies_v = v.mean(skipna = True)\n",
    "  u = u.tolist()\n",
    "  v = v.tolist()\n",
    "  for i in range(1, len(u)):\n",
    "    if(not pd.isnull(u[i]) and not pd.isnull(v[i])):\n",
    "      riu = u[i] - vies_u\n",
    "      riv = v[i] - vies_v\n",
    "      sum_iuv += (riu*riv)\n",
    "      sum_sqrt_iu += riu**2\n",
    "      sum_sqrt_iv += riv**2\n",
    "  return sum_iuv / math.sqrt(sum_sqrt_iu*sum_sqrt_iv)\n",
    "\n",
    "# O próprio pandas implementa isso\n",
    "# df_u_m.corr(method='pearson')\n",
    "# print(df_m_u.corr(method='pearson'))\n",
    "# print(df_m_u)"
   ]
  },
  {
   "cell_type": "code",
   "execution_count": null,
   "metadata": {},
   "outputs": [],
   "source": [
    "sim_u_v = df_m_u.corr(method='pearson')"
   ]
  },
  {
   "cell_type": "code",
   "execution_count": 37,
   "metadata": {
    "tags": []
   },
   "outputs": [],
   "source": [
    "def predict(u, i, k = 10):\n",
    "  top_k = sim_u_v.nlargest(k, u).index.tolist()\n",
    "  top_k.remove(u)\n",
    "  sum_sim = 0\n",
    "  dem = 0\n",
    "  mean_u = df_m_u[u].mean(skipna = True)\n",
    "  for v in top_k:\n",
    "    if (pd.isnull(df_m_u[v][i])):\n",
    "        continue\n",
    "    dem += sim_u_v[u][v] * (df_m_u[v][i] - df_m_u[v].mean(skipna = True))\n",
    "    sum_sim += sim_u_v[u][v]\n",
    "  if sum_sim == 0:\n",
    "    return 0\n",
    "  return mean_u + (dem/sum_sim)\n",
    "\n",
    "#print(pred(1, 683))"
   ]
  },
  {
   "cell_type": "code",
   "execution_count": 31,
   "metadata": {
    "tags": []
   },
   "outputs": [],
   "source": [
    "def rmse(test):\n",
    "    sum_err = 0\n",
    "    for t in test:\n",
    "        u = t[0]\n",
    "        i = t[1]\n",
    "        r_ui = t[2]\n",
    "        pred = predict(u, i)\n",
    "        error = (r_ui - pred)**2\n",
    "        sum_err += error\n",
    "    return math.sqrt(sum_err/len(test))"
   ]
  },
  {
   "cell_type": "code",
   "execution_count": 38,
   "metadata": {},
   "outputs": [
    {
     "output_type": "execute_result",
     "data": {
      "text/plain": "3.377164427777236"
     },
     "metadata": {},
     "execution_count": 38
    }
   ],
   "source": [
    "rmse(train.values[:10])"
   ]
  },
  {
   "cell_type": "code",
   "execution_count": null,
   "metadata": {},
   "outputs": [],
   "source": []
  }
 ],
 "metadata": {
  "language_info": {
   "codemirror_mode": {
    "name": "ipython",
    "version": 3
   },
   "file_extension": ".py",
   "mimetype": "text/x-python",
   "name": "python",
   "nbconvert_exporter": "python",
   "pygments_lexer": "ipython3",
   "version": "3.7.5-final"
  },
  "orig_nbformat": 2,
  "kernelspec": {
   "name": "python37564bitenvvenv0051dd1aa89b40c684020d4944b45907",
   "display_name": "Python 3.7.5 64-bit ('.env': venv)"
  }
 },
 "nbformat": 4,
 "nbformat_minor": 2
}