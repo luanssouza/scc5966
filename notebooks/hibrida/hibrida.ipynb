{
 "cells": [
  {
   "cell_type": "code",
   "execution_count": 1,
   "metadata": {},
   "outputs": [],
   "source": [
    "import pandas as pd\n",
    "import numpy as np\n",
    "import math\n",
    "\n",
    "import time"
   ]
  },
  {
   "cell_type": "code",
   "execution_count": 2,
   "metadata": {},
   "outputs": [],
   "source": [
    "train = pd.read_csv('dataset/train_data.csv')\n",
    "test = pd.read_csv('dataset/test_data.csv')"
   ]
  },
  {
   "cell_type": "code",
   "execution_count": 3,
   "metadata": {},
   "outputs": [],
   "source": [
    "def baseline(train):\n",
    "    mean = train[\"rating\"].mean(skipna = True)\n",
    "    users = train.pivot(index='movie_id', columns='user_id', values='rating')\n",
    "    items = train.pivot(index='user_id', columns='movie_id', values='rating')\n",
    "    nusers = train.values[:, 0].max()+1\n",
    "    nitems = train.values[:, 1].max()+1\n",
    "    bu = np.full(nusers, np.nan, dtype=float)\n",
    "    bi = np.full(nitems, np.nan, dtype=float)\n",
    "\n",
    "    for i in items.columns.values:\n",
    "        bi[i] = np.nanmean(items[i] - mean)\n",
    "\n",
    "    aux = bi[~np.isnan(bi)]\n",
    "    for u in users.columns.values:\n",
    "        bu[u] = np.nanmean(users[u] - mean - aux)\n",
    "\n",
    "    bi = np.nan_to_num(bi)\n",
    "    bu = np.nan_to_num(bu)\n",
    "    model = { \"bu\" : bu, \"bi\": bi, \"mean\": mean }\n",
    "    def predict(u, i):\n",
    "        return model[\"mean\"] + model[\"bu\"][u] + model[\"bi\"][i]\n",
    "\n",
    "    model[\"pred\"] = predict\n",
    "    return model"
   ]
  },
  {
   "cell_type": "code",
   "execution_count": 4,
   "metadata": {},
   "outputs": [],
   "source": [
    "def knn(train):\n",
    "    ratings = train.pivot(index='movie_id', columns='user_id', values='rating')\n",
    "    sim = ratings.corr(method='pearson')\n",
    "\n",
    "    model = { \"sim\": sim, \"ratings\": ratings }\n",
    "    def predict(u, i, k = 5):\n",
    "        sim = model[\"sim\"]\n",
    "        ratings = model[\"ratings\"]\n",
    "        ratings_T = ratings.T\n",
    "        if u not in sim or i not in ratings_T:\n",
    "            return 0\n",
    "        sim_users = sim[u][~sim[u].isna()].sort_values(ascending=False).index\n",
    "        rated_users = ratings_T[i][ratings_T[i] > 0].index\n",
    "        sim_k = np.intersect1d(sim_users, rated_users)\n",
    "        top_k = [x for x in sim_users if x in sim_k][:k]\n",
    "        sum_sim = 0\n",
    "        dem = 0\n",
    "        mean_u = ratings[u].mean(skipna = True)\n",
    "        for v in top_k:\n",
    "            dem += sim[u][v] * (ratings[v][i] - ratings[v].mean(skipna = True))\n",
    "            sum_sim += sim[u][v]\n",
    "        if sum_sim == 0:\n",
    "            return 0\n",
    "        return mean_u + (dem/sum_sim)\n",
    "\n",
    "    model[\"pred\"] = predict\n",
    "    return model"
   ]
  },
  {
   "cell_type": "code",
   "execution_count": 5,
   "metadata": {},
   "outputs": [],
   "source": [
    "# Função SVD Otimizado\n",
    "def svdopt(train, k, lr = 0.05, reg = 0.02,miter = 10):\n",
    "    train.columns = [0, 1, 2, 3]\n",
    "    global_mean = train[2].mean(skipna = True)\n",
    "    nusers = train[0].max()+1\n",
    "    nitems = train[1].max()+1\n",
    "    bu = np.full(nusers, 0, dtype=float)\n",
    "    bi = np.full(nusers, 0, dtype=float)\n",
    "    P = np.random.normal(loc = 0, scale = 0.1, size=(nusers, k))\n",
    "    Q = np.random.normal(loc = 0, scale = 0.1, size=(nitems, k))\n",
    "    error = list()\n",
    "    for l in range(0, miter):\n",
    "        sq_error = 0\n",
    "        for j in train.index:\n",
    "            u = train[0][j]\n",
    "            i = train[1][j]\n",
    "            r_ui = train[2][j]\n",
    "            pred = global_mean + bu[u] + bi[i] + np.dot(P[u, ], Q[i, ])\n",
    "            e_ui = r_ui - pred\n",
    "            sq_error += e_ui**2\n",
    "            bu[u] += lr * e_ui # - reg * bu[u]\n",
    "            bi[i] += lr * e_ui # - reg * bi[i]\n",
    "            for f in range(k):\n",
    "                temp_uf = P[u, f]\n",
    "                P[u, f] = P[u, f] + lr * (e_ui * Q[i, f] - reg * P[u, f])\n",
    "                Q[i, f] = Q[i, f] + lr * (e_ui * temp_uf - reg * Q[i, f])\n",
    "        error.append(math.sqrt(sq_error/len(train)))\n",
    "    model = {  \"global_mean\": global_mean, \"bu\": bu, \"bi\": bi, \"P\": P, \"Q\": Q, \"error\": error }\n",
    "    def predict(u, i):\n",
    "        return model[\"global_mean\"] + model[\"bu\"][u] + model[\"bi\"][i] + np.dot(model[\"P\"][u], model[\"Q\"][i])\n",
    "\n",
    "    model[\"pred\"] = predict\n",
    "    return model"
   ]
  },
  {
   "cell_type": "code",
   "execution_count": 6,
   "metadata": {},
   "outputs": [],
   "source": [
    "def hibrid(train, k = 5, lr = 0.05, reg = 0.02,miter = 10):\n",
    "    return { \"baseline\": baseline(train), \"svdopt\": svdopt(train, k, lr, reg, miter) }"
   ]
  },
  {
   "cell_type": "code",
   "execution_count": 7,
   "metadata": {},
   "outputs": [],
   "source": [
    "def predict(model, u, i, k = 5):\n",
    "    return (0.5 * model[\"baseline\"][\"pred\"](u, i)) + (0.5 * model[\"svdopt\"][\"pred\"](u, i))"
   ]
  },
  {
   "cell_type": "code",
   "execution_count": 8,
   "metadata": {},
   "outputs": [],
   "source": [
    "# Avaliando modelo\n",
    "def rmse(model, test):\n",
    "    sum_err = 0\n",
    "    for t in test:\n",
    "        u = t[0]\n",
    "        i = t[1]\n",
    "        r_ui = t[2]\n",
    "        pred = predict(model, u, i)\n",
    "        error = (r_ui - pred)**2\n",
    "        sum_err += error\n",
    "    return math.sqrt(sum_err/len(test))"
   ]
  },
  {
   "cell_type": "code",
   "execution_count": 9,
   "metadata": {},
   "outputs": [],
   "source": [
    "def validation(model, data, train_split = 0.75,  k = 5, lr = 0.05, reg = 0.02,miter = 10):\n",
    "    data = data.sample(frac=1)\n",
    "    train_len = int(train_split * len(data))\n",
    "    train = data[:train_len]\n",
    "    test = data[train_len:].values\n",
    "\n",
    "    start_time = time.time()\n",
    "    model = model(train, k, lr, reg, miter)\n",
    "    print(\"Tempo de treinamento em segundos: \", time.time() - start_time)\n",
    "    start_time = time.time()\n",
    "    print(\"RMSE :\", rmse(model, test))\n",
    "    print(\"Tempo de predição em segundos: \", time.time() - start_time)"
   ]
  },
  {
   "cell_type": "code",
   "execution_count": 10,
   "metadata": {
    "tags": []
   },
   "outputs": [
    {
     "output_type": "stream",
     "name": "stdout",
     "text": "Tempo de treinamento em segundos:  462.22674083709717\nRMSE : 0.8788366568280844\nTempo de predição em segundos:  1.31135892868042\n"
    }
   ],
   "source": [
    "validation(hibrid, train, 0.75, 5, 0.05, 0.02)"
   ]
  },
  {
   "cell_type": "code",
   "execution_count": 11,
   "metadata": {},
   "outputs": [],
   "source": [
    "# def results(model, test):\n",
    "#     return [predict(model, t[1], t[2]) for t in test]\n",
    "\n",
    "# Iniciando contagem\n",
    "# start_time = time.time()\n",
    "\n",
    "# hibrid = hibrid(train)\n",
    "\n",
    "# results = results(hibrid, test.values)\n",
    "\n",
    "# Finalizando contagem\n",
    "# print(\"Tempo de execucao em segundos: \", time.time() - start_time)\n",
    "\n",
    "# results = pd.DataFrame({ 'rating': results })\n",
    "# results.insert(0, 'id', results.index)\n",
    "# results.to_csv('results/hibrid_results.csv', encoding='utf-8', index=False)"
   ]
  },
  {
   "cell_type": "markdown",
   "metadata": {},
   "source": [
    "## Execução 1 treino 90% k = 5 KNN users(0.5) e Baseline(0.5)\n",
    "Tempo de treinamento em segundos:  321.6816825866699 <br />\n",
    "RMSE : 1.0354636821269407 <br />\n",
    "Tempo de predição em segundos:  1476.614355802536 <br />\n",
    "\n",
    "## Execução 2 treino 90% k = 5 SVD otimizado(0.5) e Baseline(0.5)\n",
    "Tempo de treinamento em segundos:  381.6872208118439 <br />\n",
    "RMSE : 0.8794344529299144 <br />\n",
    "Tempo de predição em segundos:  0.48278355598449707 <br />\n",
    "\n",
    "## Execução 3 treino 75% k = 5, lr = 0.05, reg = 0.02, miter = 10 SVD otimizado(0.5) e Baseline(0.5)\n",
    "Tempo de treinamento em segundos:  284.07723593711853 <br />\n",
    "RMSE : 0.8802939889152938 <br />\n",
    "Tempo de predição em segundos:  1.3872888088226318 <br />\n",
    "\n",
    "## Execução 3 treino 75% k = 5, lr = 0.07, reg = 0.02, miter = 10 SVD otimizado(0.3) e Baseline(0.7)\n",
    "Tempo de treinamento em segundos:  573.8085193634033 <br />\n",
    "RMSE : 0.8904080931526971 <br />\n",
    "Tempo de predição em segundos:  2.690932512283325 <br />\n",
    "\n",
    "## Execução 3 treino 75% k = 5, lr = 0.07, reg = 0.02, miter = 10 SVD otimizado(0.7) e Baseline(0.3)\n",
    "Tempo de treinamento em segundos:  429.23968267440796 <br />\n",
    "RMSE : 0.8908806318231459 <br />\n",
    "Tempo de predição em segundos:  1.5721001625061035 <br />\n",
    "\n",
    "## Execução 3 treino 75% k = 5, lr = 0.07, reg = 0.02, miter = 10 SVD otimizado(0.6) e Baseline(0.4)\n",
    "Tempo de treinamento em segundos:  570.896012544632 <br />\n",
    "RMSE : 0.8865988098253447 <br />\n",
    "Tempo de predição em segundos:  1.2990763187408447 <br />\n",
    "\n",
    "## Execução 3 treino 75% k = 5, lr = 0.05, reg = 0.02, miter = 10 SVD otimizado(0.6) e Baseline(0.4)\n",
    "Tempo de treinamento em segundos:  424.18460178375244 <br />\n",
    "RMSE : 0.8832916993054506 <br />\n",
    "Tempo de predição em segundos:  2.84799861907959 <br />\n",
    "\n",
    "## Execução 3 treino 75% k = 5, lr = 0.05, reg = 0.02, miter = 10 SVD otimizado(0.5) e Baseline(0.5)\n",
    "Tempo de treinamento em segundos:  462.22674083709717 <br />\n",
    "RMSE : 0.8788366568280844 <br />\n",
    "Tempo de predição em segundos:  1.31135892868042 <br />"
   ]
  }
 ],
 "metadata": {
  "language_info": {
   "codemirror_mode": {
    "name": "ipython",
    "version": 3
   },
   "file_extension": ".py",
   "mimetype": "text/x-python",
   "name": "python",
   "nbconvert_exporter": "python",
   "pygments_lexer": "ipython3",
   "version": "3.7.5-final"
  },
  "orig_nbformat": 2,
  "kernelspec": {
   "name": "python37564bitenvvenv0051dd1aa89b40c684020d4944b45907",
   "display_name": "Python 3.7.5 64-bit ('.env': venv)"
  }
 },
 "nbformat": 4,
 "nbformat_minor": 2
}