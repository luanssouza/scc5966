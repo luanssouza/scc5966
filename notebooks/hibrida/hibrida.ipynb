{
 "cells": [
  {
   "cell_type": "code",
   "execution_count": null,
   "metadata": {},
   "outputs": [],
   "source": [
    "import pandas as pd\n",
    "import numpy as np\n",
    "import math\n",
    "\n",
    "import time"
   ]
  },
  {
   "cell_type": "code",
   "execution_count": null,
   "metadata": {},
   "outputs": [],
   "source": [
    "train = pd.read_csv('dataset/train_data.csv')\n",
    "test = pd.read_csv('dataset/test_data.csv')"
   ]
  },
  {
   "cell_type": "code",
   "execution_count": null,
   "metadata": {},
   "outputs": [],
   "source": [
    "def baseline(train):\n",
    "    mean = train[\"rating\"].mean(skipna = True)\n",
    "    users = train.pivot(index='movie_id', columns='user_id', values='rating')\n",
    "    items = train.pivot(index='user_id', columns='movie_id', values='rating')\n",
    "    nusers = train.values[:, 0].max()+1\n",
    "    nitems = train.values[:, 1].max()+1\n",
    "    bu = np.full(nusers, np.nan, dtype=float)\n",
    "    bi = np.full(nitems, np.nan, dtype=float)\n",
    "\n",
    "    for i in items.columns.values:\n",
    "        bi[i] = np.nanmean(items[i] - mean)\n",
    "\n",
    "    aux = bi[~np.isnan(bi)]\n",
    "    for u in users.columns.values:\n",
    "        bu[u] = np.nanmean(users[u] - mean - aux)\n",
    "\n",
    "    bi = np.nan_to_num(bi)\n",
    "    bu = np.nan_to_num(bu)\n",
    "    model = { \"bu\" : bu, \"bi\": bi, \"mean\": mean }\n",
    "    def predict(u, i):\n",
    "        return model[\"mean\"] + model[\"bu\"][u] + model[\"bi\"][i]\n",
    "\n",
    "    model[\"pred\"] = predict\n",
    "    return model"
   ]
  },
  {
   "cell_type": "code",
   "execution_count": null,
   "metadata": {},
   "outputs": [],
   "source": [
    "def knn(train):\n",
    "    ratings = train.pivot(index='movie_id', columns='user_id', values='rating')\n",
    "    sim = ratings.corr(method='pearson')\n",
    "\n",
    "    model = { \"sim\": sim, \"ratings\": ratings }\n",
    "    def predict(u, i, k = 5):\n",
    "        sim = model[\"sim\"]\n",
    "        ratings = model[\"ratings\"]\n",
    "        ratings_T = ratings.T\n",
    "        if u not in sim or i not in ratings_T:\n",
    "            return 0\n",
    "        sim_users = sim[u][~sim[u].isna()].sort_values(ascending=False).index\n",
    "        rated_users = ratings_T[i][ratings_T[i] > 0].index\n",
    "        sim_k = np.intersect1d(sim_users, rated_users)\n",
    "        top_k = [x for x in sim_users if x in sim_k][:k]\n",
    "        sum_sim = 0\n",
    "        dem = 0\n",
    "        mean_u = ratings[u].mean(skipna = True)\n",
    "        for v in top_k:\n",
    "            dem += sim[u][v] * (ratings[v][i] - ratings[v].mean(skipna = True))\n",
    "            sum_sim += sim[u][v]\n",
    "        if sum_sim == 0:\n",
    "            return 0\n",
    "        return mean_u + (dem/sum_sim)\n",
    "\n",
    "    model[\"pred\"] = predict\n",
    "    return model"
   ]
  },
  {
   "cell_type": "code",
   "execution_count": null,
   "metadata": {},
   "outputs": [],
   "source": [
    "def hibrid(train):\n",
    "    return { \"baseline\": baseline(train), \"knn\": knn(train) }"
   ]
  },
  {
   "cell_type": "code",
   "execution_count": null,
   "metadata": {},
   "outputs": [],
   "source": [
    "def predict(model, u, i, k = 5):\n",
    "    return (0.5 * model[\"baseline\"][\"pred\"](u, i)) + (0.5 * model[\"knn\"][\"pred\"](u, i, k))"
   ]
  },
  {
   "cell_type": "code",
   "execution_count": null,
   "metadata": {},
   "outputs": [],
   "source": [
    "def results(model, test):\n",
    "    return [predict(model, t[1], t[2]) for t in test]\n",
    "\n",
    "# Iniciando contagem\n",
    "# start_time = time.time()\n",
    "\n",
    "hibrid = hibrid(train)\n",
    "\n",
    "results = results(hibrid, test.values)\n",
    "\n",
    "# Finalizando contagem\n",
    "# print(\"Tempo de execucao em segundos: \", time.time() - start_time)\n",
    "\n",
    "results = pd.DataFrame({ 'rating': results })\n",
    "results.insert(0, 'id', results.index)\n",
    "# results.to_csv('results/hibrid_results.csv', encoding='utf-8', index=False)"
   ]
  },
  {
   "cell_type": "code",
   "execution_count": null,
   "metadata": {},
   "outputs": [],
   "source": []
  }
 ],
 "metadata": {
  "language_info": {
   "codemirror_mode": {
    "name": "ipython",
    "version": 3
   },
   "file_extension": ".py",
   "mimetype": "text/x-python",
   "name": "python",
   "nbconvert_exporter": "python",
   "pygments_lexer": "ipython3",
   "version": "3.7.5-final"
  },
  "orig_nbformat": 2,
  "kernelspec": {
   "name": "python37564bitenvvenv0051dd1aa89b40c684020d4944b45907",
   "display_name": "Python 3.7.5 64-bit ('.env': venv)"
  }
 },
 "nbformat": 4,
 "nbformat_minor": 2
}