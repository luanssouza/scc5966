{
 "cells": [
  {
   "cell_type": "code",
   "execution_count": 1,
   "metadata": {},
   "outputs": [],
   "source": [
    "import pandas as pd\n",
    "import numpy as np\n",
    "import math\n"
   ]
  },
  {
   "cell_type": "code",
   "execution_count": 2,
   "metadata": {},
   "outputs": [],
   "source": [
    "# Importando .csv\n",
    "train = pd.read_csv('dataset/train_data.csv')\n",
    "\n",
    "# Criando Matrix Movie X User\n",
    "df_m_u = train.pivot(index='movie_id', columns='user_id', values='rating')"
   ]
  },
  {
   "cell_type": "code",
   "execution_count": 3,
   "metadata": {},
   "outputs": [],
   "source": [
    "# Calculando correlação de pearson\n",
    "sim_u_v = df_m_u.corr(method='pearson')"
   ]
  },
  {
   "cell_type": "code",
   "execution_count": 112,
   "metadata": {},
   "outputs": [],
   "source": [
    "# Implementando predição\n",
    "def predict(u, i, k = 5):\n",
    "    sim_users = sim_u_v[u][~sim_u_v[u].isna()].sort_values(ascending=False).index\n",
    "    rated_items = df_m_u.T[i][df_m_u.T[i] > 0].index\n",
    "    sim_k = np.intersect1d(sim_users, rated_items)\n",
    "    top_k = [x for x in sim_users if x in sim_k][:k]\n",
    "    sum_sim = 0\n",
    "    dem = 0\n",
    "    mean_u = df_m_u[u].mean(skipna = True)\n",
    "    for v in top_k:\n",
    "        dem += sim_u_v[u][v] * (df_m_u[v][i] - df_m_u[v].mean(skipna = True))\n",
    "        sum_sim += sim_u_v[u][v]\n",
    "    if sum_sim == 0:\n",
    "        return 0\n",
    "    return mean_u + (dem/sum_sim)"
   ]
  },
  {
   "cell_type": "code",
   "execution_count": 113,
   "metadata": {},
   "outputs": [],
   "source": [
    "# Avaliando modelo\n",
    "def rmse(test):\n",
    "    sum_err = 0\n",
    "    for t in test:\n",
    "        u = t[0]\n",
    "        i = t[1]\n",
    "        r_ui = t[2]\n",
    "        pred = predict(u, i)\n",
    "        error = (r_ui - pred)**2\n",
    "        sum_err += error\n",
    "    return math.sqrt(sum_err/len(test))"
   ]
  },
  {
   "cell_type": "code",
   "execution_count": 116,
   "metadata": {
    "tags": []
   },
   "outputs": [
    {
     "output_type": "execute_result",
     "data": {
      "text/plain": "0.5940892599225607"
     },
     "metadata": {},
     "execution_count": 116
    }
   ],
   "source": [
    "rmse(train.values[:1000])"
   ]
  },
  {
   "cell_type": "code",
   "execution_count": null,
   "metadata": {},
   "outputs": [],
   "source": []
  }
 ],
 "metadata": {
  "language_info": {
   "codemirror_mode": {
    "name": "ipython",
    "version": 3
   },
   "file_extension": ".py",
   "mimetype": "text/x-python",
   "name": "python",
   "nbconvert_exporter": "python",
   "pygments_lexer": "ipython3",
   "version": "3.7.5-final"
  },
  "orig_nbformat": 2,
  "kernelspec": {
   "name": "python37564bitenvvenv0051dd1aa89b40c684020d4944b45907",
   "display_name": "Python 3.7.5 64-bit ('.env': venv)"
  }
 },
 "nbformat": 4,
 "nbformat_minor": 2
}