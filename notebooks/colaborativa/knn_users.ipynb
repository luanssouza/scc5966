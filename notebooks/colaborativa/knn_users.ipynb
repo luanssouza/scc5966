{
 "cells": [
  {
   "cell_type": "code",
   "execution_count": 1,
   "metadata": {},
   "outputs": [],
   "source": [
    "import pandas as pd\n",
    "import numpy as np\n",
    "import math\n",
    "\n",
    "import time"
   ]
  },
  {
   "cell_type": "code",
   "execution_count": 2,
   "metadata": {},
   "outputs": [],
   "source": [
    "# Importando .csv\n",
    "train = pd.read_csv('dataset/train_data.csv')"
   ]
  },
  {
   "cell_type": "code",
   "execution_count": 3,
   "metadata": {},
   "outputs": [],
   "source": [
    "def knn(train):\n",
    "    ratings = train.pivot(index='movie_id', columns='user_id', values='rating')\n",
    "    sim = ratings.corr(method='pearson')\n",
    "    return { \"sim\": sim, \"ratings\": ratings}"
   ]
  },
  {
   "cell_type": "code",
   "execution_count": 4,
   "metadata": {},
   "outputs": [],
   "source": [
    "# Implementando predição\n",
    "def predict(model, u, i, k = 5):\n",
    "    sim = model[\"sim\"]\n",
    "    ratings = model[\"ratings\"]\n",
    "    ratings_T = ratings.T\n",
    "    if u not in sim or i not in ratings_T:\n",
    "        return 0\n",
    "    sim_users = sim[u][~sim[u].isna()].sort_values(ascending=False).index\n",
    "    rated_users = ratings_T[i][ratings_T[i] > 0].index\n",
    "    sim_k = np.intersect1d(sim_users, rated_users)\n",
    "    top_k = [x for x in sim_users if x in sim_k][:k]\n",
    "    sum_sim = 0\n",
    "    dem = 0\n",
    "    mean_u = ratings[u].mean(skipna = True)\n",
    "    for v in top_k:\n",
    "        dem += sim[u][v] * (ratings[v][i] - ratings[v].mean(skipna = True))\n",
    "        sum_sim += sim[u][v]\n",
    "    if sum_sim == 0:\n",
    "        return 0\n",
    "    return mean_u + (dem/sum_sim)"
   ]
  },
  {
   "cell_type": "code",
   "execution_count": 5,
   "metadata": {},
   "outputs": [],
   "source": [
    "# Avaliando modelo\n",
    "def rmse(model, test, k = 5):\n",
    "    sum_err = 0\n",
    "    for t in test:\n",
    "        u = t[0]\n",
    "        i = t[1]\n",
    "        r_ui = t[2]\n",
    "        pred = predict(model, u, i, k)\n",
    "        error = (r_ui - pred)**2\n",
    "        sum_err += error\n",
    "    return math.sqrt(sum_err/len(test))"
   ]
  },
  {
   "cell_type": "code",
   "execution_count": 6,
   "metadata": {},
   "outputs": [],
   "source": [
    "def validation(model, data, train_split = 0.75, k = 5):\n",
    "    data = data.sample(frac=1)\n",
    "    train_len = int(train_split * len(data))\n",
    "    train = data[:train_len]\n",
    "    test = data[train_len:].values\n",
    "\n",
    "    start_time = time.time()\n",
    "    model = model(train)\n",
    "    print(\"Tempo de treinamento em segundos: \", time.time() - start_time)\n",
    "    start_time = time.time()\n",
    "    print(\"RMSE :\", rmse(model, test, k))\n",
    "    print(\"Tempo de predição em segundos: \", time.time() - start_time)"
   ]
  },
  {
   "cell_type": "code",
   "execution_count": 7,
   "metadata": {
    "tags": []
   },
   "outputs": [],
   "source": [
    "# rmse(train.values[:1000])"
   ]
  },
  {
   "cell_type": "code",
   "execution_count": 8,
   "metadata": {
    "tags": []
   },
   "outputs": [
    {
     "output_type": "stream",
     "name": "stdout",
     "text": "Tempo de treinamento em segundos:  201.38351964950562\nRMSE : 1.338803799829699\nTempo de predição em segundos:  2129.867509365082\n"
    }
   ],
   "source": [
    "validation(knn, train, 0.75, 7)"
   ]
  },
  {
   "cell_type": "markdown",
   "metadata": {},
   "source": [
    "## Execução 1 treino 90% k = 5\n",
    "Tempo de treinamento em segundos:  149.07133269309998 <br />\n",
    "RMSE : 3.803978433165255 <br />\n",
    "Tempo de predição em segundos:  26.33492422103882 <br />\n",
    "\n",
    "## Execução 2 treino 75% k = 5\n",
    "Tempo de treinamento em segundos:  126.98204016685486 <br />\n",
    "RMSE : 3.770118711499278 <br />\n",
    "Tempo de predição em segundos:  76.77399587631226 <br />\n",
    "\n",
    "## Execução 3 treino 75% k = 10\n",
    "Tempo de treinamento em segundos:  110.51997590065002 <br />\n",
    "RMSE : 3.7701172485677734 <br />\n",
    "Tempo de predição em segundos:  71.33514952659607 <br />\n",
    "\n",
    "## Execução 4 treino 75% k = 5 (misturando todos os usuários)\n",
    "Tempo de treinamento em segundos:  211.7357943058014 <br />\n",
    "RMSE : 1.0656656377523062 <br />\n",
    "Tempo de predição em segundos:  2155.411029815674 <br />\n",
    "\n",
    "## Execução 5 treino 75% k = 9 (misturando todos os usuários)\n",
    "Tempo de treinamento em segundos:  263.8602533340454 <br />\n",
    "RMSE : 1.67112944390123 <br />\n",
    "Tempo de predição em segundos:  2692.204513311386 <br />\n",
    "\n",
    "## Execução 6 treino 75% k = 7 (misturando todos os usuários)\n",
    "Tempo de treinamento em segundos:  201.38351964950562 <br />\n",
    "RMSE : 1.338803799829699 <br />\n",
    "Tempo de predição em segundos:  2129.867509365082 <br />"
   ]
  }
 ],
 "metadata": {
  "language_info": {
   "codemirror_mode": {
    "name": "ipython",
    "version": 3
   },
   "file_extension": ".py",
   "mimetype": "text/x-python",
   "name": "python",
   "nbconvert_exporter": "python",
   "pygments_lexer": "ipython3",
   "version": "3.7.5-final"
  },
  "orig_nbformat": 2,
  "kernelspec": {
   "name": "python37564bitenvvenv0051dd1aa89b40c684020d4944b45907",
   "display_name": "Python 3.7.5 64-bit ('.env': venv)"
  }
 },
 "nbformat": 4,
 "nbformat_minor": 2
}