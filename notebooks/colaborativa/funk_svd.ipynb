{
 "cells": [
  {
   "cell_type": "code",
   "execution_count": 1,
   "metadata": {},
   "outputs": [],
   "source": [
    "import pandas as pd\n",
    "import numpy as np\n",
    "from scipy.spatial import distance\n",
    "import math\n",
    "\n",
    "import time"
   ]
  },
  {
   "cell_type": "code",
   "execution_count": 2,
   "metadata": {},
   "outputs": [],
   "source": [
    "# Importando .csv\n",
    "train = pd.read_csv('dataset/train_data.csv', header=None,  skiprows=[0], usecols=[0,1,2])\n",
    "m = pd.read_csv('dataset/movies_data.csv')\n",
    "\n",
    "# Obtendo generos dos filmes\n",
    "m = pd.read_csv('dataset/movies_data.csv')\n",
    "genres = pd.get_dummies(m.set_index(['movie_id']).genres.str.split('|', expand=True).stack(dropna=False)).sum(level=0)"
   ]
  },
  {
   "cell_type": "code",
   "execution_count": 3,
   "metadata": {},
   "outputs": [],
   "source": [
    "# Função FunkSVD\n",
    "def funkSVD(train, k = 5, lr = 0.05, reg = 0.02, miter = 10):\n",
    "    global_mean = train[2].mean(skipna = True)\n",
    "    nusers = train[0].max()+1\n",
    "    nitems = train[1].max()+1\n",
    "    bu = np.full(nusers, 0, dtype=float)\n",
    "    bi = np.full(nusers, 0, dtype=float)\n",
    "    # P = np.full((nusers+1, k), 0.1)\n",
    "    # Q = np.full((nitems+1, k), 0.1)\n",
    "    P = np.random.normal(loc = 0, scale = 0.1, size=(nusers, k))\n",
    "    Q = np.random.normal(loc = 0, scale = 0.1, size=(nitems, k))\n",
    "    for f in range(k):\n",
    "        for l in range(0, miter):\n",
    "            for j in train.index:\n",
    "                u = train[0][j]\n",
    "                i = train[1][j]\n",
    "                r_ui = train[2][j]\n",
    "                pred = global_mean + bu[u] + bi[i] + np.dot(P[u, ], Q[i, ])\n",
    "                e_ui = r_ui - pred\n",
    "                bu[u] = bu[u] + lr * e_ui # - reg * bu[u]\n",
    "                bi[i] = bi[i] + lr * e_ui # - reg * bi[i]\n",
    "                temp_uf = P[u, f]\n",
    "                P[u, f] = P[u, f] + lr * (e_ui * Q[i, f] - reg * P[u, f])\n",
    "                Q[i, f] = Q[i, f] + lr * (e_ui * temp_uf - reg * Q[i, f])\n",
    "\n",
    "    return { \"global_mean\": global_mean, \"bu\": bu, \"bi\": bi, \"P\": P, \"Q\": Q }"
   ]
  },
  {
   "cell_type": "code",
   "execution_count": 4,
   "metadata": {},
   "outputs": [],
   "source": [
    "# Predizendo nota\n",
    "def predict(model, u, i):\n",
    "    return model[\"global_mean\"] + model[\"bu\"][u] + model[\"bi\"][i] + np.dot(model[\"P\"][u], model[\"Q\"][i])"
   ]
  },
  {
   "cell_type": "code",
   "execution_count": 5,
   "metadata": {},
   "outputs": [],
   "source": [
    "# Avaliando predições\n",
    "def rmse(model, test):\n",
    "    sum_err = 0\n",
    "    for t in test:\n",
    "        u = t[0]\n",
    "        i = t[1]\n",
    "        r_ui = t[2]\n",
    "        pred = predict(model, u, i)\n",
    "        error = (r_ui - pred)**2\n",
    "        sum_err += error\n",
    "    return math.sqrt(sum_err/len(test))"
   ]
  },
  {
   "cell_type": "code",
   "execution_count": 6,
   "metadata": {},
   "outputs": [],
   "source": [
    "def validation(model, data, train_split = 0.75, k = 5, lr = 0.05, reg = 0.02, miter = 10):\n",
    "    data = data.sample(frac=1)\n",
    "    train_len = int(train_split * len(data))\n",
    "    train = data[:train_len]\n",
    "    test = data[train_len:].values\n",
    "\n",
    "    start_time = time.time()\n",
    "    model = model(train, k, lr, reg, miter)\n",
    "    print(\"Tempo de treinamento em segundos: \", time.time() - start_time)\n",
    "    start_time = time.time()\n",
    "    print(\"RMSE :\", rmse(model, test))\n",
    "    print(\"Tempo de predição em segundos: \", time.time() - start_time)"
   ]
  },
  {
   "cell_type": "code",
   "execution_count": 7,
   "metadata": {
    "tags": []
   },
   "outputs": [
    {
     "output_type": "stream",
     "name": "stdout",
     "text": "Tempo de treinamento em segundos:  1384.3588817119598\nRMSE : 0.8917648049441322\nTempo de predição em segundos:  1.4675226211547852\n"
    }
   ],
   "source": [
    "validation(funkSVD, train, 0.75, k=9)"
   ]
  },
  {
   "cell_type": "markdown",
   "metadata": {},
   "source": [
    "\n",
    "## Execução 1 treino 75% k = 2, lr = 0.07, reg = 0.02, miter = 1\n",
    "Tempo de treinamento em segundos:  44.2860951423645 <br >\n",
    "RMSE : 0.9257016292902414 <br >\n",
    "Tempo de predição em segundos:  0.9218599796295166 <br >\n",
    "\n",
    "## Execução 2 treino 75% k = 2, lr = 0.07, reg = 0.02, miter = 10\n",
    "Tempo de treinamento em segundos:  523.6071541309357 <br >\n",
    "RMSE : 0.8962728810026056 <br >\n",
    "Tempo de predição em segundos:  1.095106840133667 <br >\n",
    "\n",
    "## Execução 3 treino 75% k = 5, lr = 0.07, reg = 0.02, miter = 10\n",
    "Tempo de treinamento em segundos:  1384.3588817119598 <br >\n",
    "RMSE : 0.8917648049441322 <br >\n",
    "Tempo de predição em segundos:  1.4675226211547852 <br >"
   ]
  }
 ],
 "metadata": {
  "language_info": {
   "codemirror_mode": {
    "name": "ipython",
    "version": 3
   },
   "file_extension": ".py",
   "mimetype": "text/x-python",
   "name": "python",
   "nbconvert_exporter": "python",
   "pygments_lexer": "ipython3",
   "version": "3.7.5-final"
  },
  "orig_nbformat": 2,
  "kernelspec": {
   "name": "python37564bitenvvenv0051dd1aa89b40c684020d4944b45907",
   "display_name": "Python 3.7.5 64-bit ('.env': venv)"
  }
 },
 "nbformat": 4,
 "nbformat_minor": 2
}