{
 "cells": [
  {
   "cell_type": "markdown",
   "metadata": {},
   "source": [
    "# Gradiente descendente Estocástico"
   ]
  },
  {
   "cell_type": "code",
   "execution_count": 78,
   "metadata": {},
   "outputs": [],
   "source": [
    "import pandas as pd\n",
    "import numpy as np\n",
    "import math\n",
    "\n",
    "import time"
   ]
  },
  {
   "cell_type": "code",
   "execution_count": 79,
   "metadata": {},
   "outputs": [],
   "source": [
    "# Importando .csv\n",
    "train = pd.read_csv('dataset/train_data.csv', header=None,  skiprows=[0], usecols=[0,1,2])"
   ]
  },
  {
   "cell_type": "code",
   "execution_count": 80,
   "metadata": {
    "tags": []
   },
   "outputs": [],
   "source": [
    "# Função FunkSVD\n",
    "def funkSVD(R, k, lr = 0.05, reg = 0.02, miter = 10):\n",
    "    global_mean = R[2].mean(skipna = True)\n",
    "    nusers = df[0].max()\n",
    "    nitems = df[1].max()\n",
    "    bu = np.full(nusers+1, 0)\n",
    "    bi = np.full(nusers+1, 0)\n",
    "    P = np.full((nusers+1, k), 0.1)\n",
    "    Q = np.full((nitems+1, k), 0.1)\n",
    "    for f in range(k):\n",
    "        for l in range(0, miter):\n",
    "            for j in range(0, len(R)):\n",
    "                u = R[0][j]\n",
    "                i = R[1][j]\n",
    "                r_ui = R[2][j]\n",
    "                pred = global_mean + bu[u] + bi[i] + np.dot(P[u, ], Q[i, ])\n",
    "                e_ui = r_ui - pred\n",
    "                bu[u] = bu[u] + lr * e_ui # - reg * bu[u]\n",
    "                bi[i] = bi[i] + lr * e_ui # - reg * bi[i]\n",
    "                temp_uf = P[u, f]\n",
    "                P[u, f] = P[u, f] + lr * (e_ui * Q[i, f] - reg * P[u, f])\n",
    "                Q[i, f] = Q[i, f] + lr * (e_ui * temp_uf - reg * Q[i, f])\n",
    "\n",
    "    return { \"global_mean\": global_mean, \"bu\": bu, \"bi\": bi, \"P\": P, \"Q\": Q }"
   ]
  },
  {
   "cell_type": "code",
   "execution_count": 81,
   "metadata": {},
   "outputs": [],
   "source": [
    "# funk = funkSVD(train, 4)"
   ]
  },
  {
   "cell_type": "code",
   "execution_count": 82,
   "metadata": {},
   "outputs": [],
   "source": [
    "# Função SVDOtimizado\n",
    "def svdopt(train, k, lr = 0.05, reg = 0.02,miter = 10):\n",
    "    global_mean = train[2].mean(skipna = True)\n",
    "    nusers = train[0].max()+1\n",
    "    nitems = train[1].max()+1\n",
    "    bu = np.full(nusers, 0, dtype=float)\n",
    "    bi = np.full(nusers, 0, dtype=float)\n",
    "    P = np.random.normal(loc = 0, scale = 0.1, size=(nusers, k))\n",
    "    Q = np.random.normal(loc = 0, scale = 0.1, size=(nitems, k))\n",
    "    error = list()\n",
    "    for l in range(0, miter):\n",
    "        sq_error = 0\n",
    "        for j in train.index:\n",
    "            u = train[0][j]\n",
    "            i = train[1][j]\n",
    "            r_ui = train[2][j]\n",
    "            pred = global_mean + bu[u] + bi[i] + np.dot(P[u, ], Q[i, ])\n",
    "            e_ui = r_ui - pred\n",
    "            sq_error += e_ui**2\n",
    "            bu[u] += lr * e_ui # - reg * bu[u]\n",
    "            bi[i] += lr * e_ui # - reg * bi[i]\n",
    "            for f in range(k):\n",
    "                temp_uf = P[u, f]\n",
    "                P[u, f] = P[u, f] + lr * (e_ui * Q[i, f] - reg * P[u, f])\n",
    "                Q[i, f] = Q[i, f] + lr * (e_ui * temp_uf - reg * Q[i, f])\n",
    "        error.append(math.sqrt(sq_error/len(train)))\n",
    "\n",
    "    return { \"global_mean\": global_mean, \"bu\": bu, \"bi\": bi, \"P\": P, \"Q\": Q, \"error\": error }"
   ]
  },
  {
   "cell_type": "code",
   "execution_count": 83,
   "metadata": {
    "tags": []
   },
   "outputs": [],
   "source": [
    "# svdopt = svdopt(train[:401838], 4)"
   ]
  },
  {
   "cell_type": "code",
   "execution_count": 84,
   "metadata": {},
   "outputs": [],
   "source": [
    "# Predizendo nota\n",
    "def predict(model, u, i):\n",
    "    return model[\"global_mean\"] + model[\"bu\"][u] + model[\"bi\"][i] + np.dot(model[\"P\"][u], model[\"Q\"][i])"
   ]
  },
  {
   "cell_type": "code",
   "execution_count": 85,
   "metadata": {},
   "outputs": [],
   "source": [
    "# Avaliando predições\n",
    "def rmse(model, test):\n",
    "    sum_err = 0\n",
    "    for t in test:\n",
    "        u = t[0]\n",
    "        i = t[1]\n",
    "        r_ui = t[2]\n",
    "        pred = predict(model, u, i)\n",
    "        error = (r_ui - pred)**2\n",
    "        sum_err += error\n",
    "    return math.sqrt(sum_err/len(test))"
   ]
  },
  {
   "cell_type": "code",
   "execution_count": 86,
   "metadata": {},
   "outputs": [],
   "source": [
    "def validation(model, data, train_split = 0.75, k = 5, lr = 0.05, reg = 0.02,miter = 1):\n",
    "    data = data.sample(frac=1)\n",
    "    train_len = int(train_split * len(data))\n",
    "    train = data[:train_len]\n",
    "    test = data[train_len:].values\n",
    "\n",
    "    start_time = time.time()\n",
    "    model = model(train, k, lr, reg, miter)\n",
    "    print(\"Tempo de treinamento em segundos: \", time.time() - start_time)\n",
    "    start_time = time.time()\n",
    "    print(\"RMSE :\", rmse(model, test))\n",
    "    print(\"Tempo de predição em segundos: \", time.time() - start_time)"
   ]
  },
  {
   "cell_type": "code",
   "execution_count": 87,
   "metadata": {},
   "outputs": [],
   "source": [
    "# rmse(svdopt, train.values[401838:])"
   ]
  },
  {
   "cell_type": "code",
   "execution_count": 88,
   "metadata": {
    "tags": []
   },
   "outputs": [
    {
     "output_type": "stream",
     "name": "stdout",
     "text": "Tempo de treinamento em segundos:  28.49231481552124\nRMSE : 0.9246241256750587\nTempo de predição em segundos:  1.006953477859497\n"
    }
   ],
   "source": [
    "validation(svdopt, train, 0.75, k=2)"
   ]
  },
  {
   "cell_type": "markdown",
   "metadata": {},
   "source": [
    "## Execução 1 treino 75% k = 5\n",
    "Tempo de treinamento em segundos:  34.38102984428406 <br />\n",
    "RMSE : 0.9249984482014513 <br />\n",
    "Tempo de predição em segundos:  1.005342960357666 <br />\n",
    "\n",
    "## Execução 2 treino 75% k = 10\n",
    "Tempo de treinamento em segundos:  39.39285969734192 <br />\n",
    "RMSE : 0.9260717056726036 <br />\n",
    "Tempo de predição em segundos:  1.144561767578125 <br />\n",
    "\n",
    "## Execução 3 treino 75% k = 15\n",
    "Tempo de treinamento em segundos:  45.229923248291016 <br />\n",
    "RMSE : 0.923347732264856 <br />\n",
    "Tempo de predição em segundos:  1.0131878852844238 <br />\n",
    "\n",
    "## Execução 4 treino 75% k = 2\n",
    "Tempo de treinamento em segundos:  28.49231481552124 <br />\n",
    "RMSE : 0.9246241256750587 <br />\n",
    "Tempo de predição em segundos:  1.006953477859497 <br />"
   ]
  }
 ],
 "metadata": {
  "language_info": {
   "codemirror_mode": {
    "name": "ipython",
    "version": 3
   },
   "file_extension": ".py",
   "mimetype": "text/x-python",
   "name": "python",
   "nbconvert_exporter": "python",
   "pygments_lexer": "ipython3",
   "version": "3.7.5-final"
  },
  "orig_nbformat": 2,
  "kernelspec": {
   "name": "python37564bitenvvenv0051dd1aa89b40c684020d4944b45907",
   "display_name": "Python 3.7.5 64-bit ('.env': venv)"
  }
 },
 "nbformat": 4,
 "nbformat_minor": 2
}