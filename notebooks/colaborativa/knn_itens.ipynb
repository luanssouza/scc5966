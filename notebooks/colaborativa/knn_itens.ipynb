{
 "cells": [
  {
   "cell_type": "code",
   "execution_count": 1,
   "metadata": {},
   "outputs": [],
   "source": [
    "import pandas as pd\n",
    "import numpy as np\n",
    "import math\n",
    "\n",
    "import time"
   ]
  },
  {
   "cell_type": "code",
   "execution_count": 2,
   "metadata": {},
   "outputs": [],
   "source": [
    "# Importando .csv\n",
    "train = pd.read_csv('dataset/train_data.csv')"
   ]
  },
  {
   "cell_type": "code",
   "execution_count": 3,
   "metadata": {},
   "outputs": [],
   "source": [
    "def knn(train):\n",
    "    ratings = train.pivot(index='user_id', columns='movie_id', values='rating')\n",
    "    sim = ratings.corr(method='pearson')\n",
    "    return { \"sim\": sim, \"ratings\": ratings}"
   ]
  },
  {
   "cell_type": "code",
   "execution_count": 4,
   "metadata": {},
   "outputs": [],
   "source": [
    "# Implementando predição\n",
    "def predict(model, u, i, k = 5):\n",
    "    sim = model[\"sim\"]\n",
    "    ratings = model[\"ratings\"]\n",
    "    ratings_T = ratings.T\n",
    "    if i not in sim or u not in ratings_T:\n",
    "        return 0\n",
    "    sim_items = sim[i][~sim[i].isna()].sort_values(ascending=False).index\n",
    "    rated_items = ratings_T[u][ratings_T[u] > 0].index\n",
    "    sim_k = np.intersect1d(sim_items, rated_items)\n",
    "    top_k = [x for x in sim_items if x in sim_k][:k]\n",
    "    sum_sim = 0\n",
    "    dem = 0\n",
    "    mean_u = ratings[i].mean(skipna = True)\n",
    "    for v in top_k:\n",
    "        dem += sim[i][v] * ratings[v][u] # - ratings[v].mean(skipna = True))\n",
    "        sum_sim += sim[i][v]\n",
    "    if sum_sim == 0:\n",
    "        return 0\n",
    "    return dem/sum_sim"
   ]
  },
  {
   "cell_type": "code",
   "execution_count": 5,
   "metadata": {},
   "outputs": [],
   "source": [
    "# Avaliando modelo\n",
    "def rmse(model, test, k = 5):\n",
    "    sum_err = 0\n",
    "    for t in test:\n",
    "        u = t[0]\n",
    "        i = t[1]\n",
    "        r_ui = t[2]\n",
    "        pred = predict(model, u, i, k)\n",
    "        error = (r_ui - pred)**2\n",
    "        sum_err += error\n",
    "    return math.sqrt(sum_err/len(test))"
   ]
  },
  {
   "cell_type": "code",
   "execution_count": 6,
   "metadata": {},
   "outputs": [],
   "source": [
    "def validation(model, data, train_split = 0.75, k = 5):\n",
    "    data = data.sample(frac=1)\n",
    "    train_len = int(train_split * len(data))\n",
    "    train = data[:train_len]\n",
    "    test = data[train_len:].values\n",
    "\n",
    "    start_time = time.time()\n",
    "    model = model(train)\n",
    "    print(\"Tempo de treinamento em segundos: \", time.time() - start_time)\n",
    "    start_time = time.time()\n",
    "    print(\"RMSE :\", rmse(model, test, k))\n",
    "    print(\"Tempo de predição em segundos: \", time.time() - start_time)"
   ]
  },
  {
   "cell_type": "code",
   "execution_count": 7,
   "metadata": {
    "tags": []
   },
   "outputs": [],
   "source": [
    "# rmse(df.values[:1000])"
   ]
  },
  {
   "cell_type": "code",
   "execution_count": 8,
   "metadata": {
    "tags": []
   },
   "outputs": [
    {
     "output_type": "stream",
     "name": "stdout",
     "text": "Tempo de treinamento em segundos:  188.4813015460968\nRMSE : 1.3672508325733965\nTempo de predição em segundos:  1743.37872838974\n"
    }
   ],
   "source": [
    "validation(knn, train, 0.75, 9)"
   ]
  },
  {
   "cell_type": "markdown",
   "metadata": {},
   "source": [
    "## Execução 1 treino 75% k = 5\n",
    "Tempo de treinamento em segundos:  147.43686604499817 <br />\n",
    "RMSE : 1.1770065912219758 <br />\n",
    "Tempo de predição em segundos:  1491.5968461036682 <br />\n",
    "\n",
    "## Execução 1 treino 75% k = 9\n",
    "Tempo de treinamento em segundos:  188.4813015460968 <br />\n",
    "RMSE : 1.3672508325733965 <br />\n",
    "Tempo de predição em segundos:  1743.37872838974 <br />"
   ]
  }
 ],
 "metadata": {
  "language_info": {
   "codemirror_mode": {
    "name": "ipython",
    "version": 3
   },
   "file_extension": ".py",
   "mimetype": "text/x-python",
   "name": "python",
   "nbconvert_exporter": "python",
   "pygments_lexer": "ipython3",
   "version": "3.7.5-final"
  },
  "orig_nbformat": 2,
  "kernelspec": {
   "name": "python37564bitenvvenv0051dd1aa89b40c684020d4944b45907",
   "display_name": "Python 3.7.5 64-bit ('.env': venv)"
  }
 },
 "nbformat": 4,
 "nbformat_minor": 2
}