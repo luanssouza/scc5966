{
 "cells": [
  {
   "cell_type": "code",
   "execution_count": 1,
   "metadata": {},
   "outputs": [],
   "source": [
    "import pandas as pd\n",
    "import numpy as np\n",
    "import math\n"
   ]
  },
  {
   "cell_type": "code",
   "execution_count": 2,
   "metadata": {},
   "outputs": [],
   "source": [
    "# Importando .csv\n",
    "df = pd.read_csv('dataset/train_data.csv')\n",
    "\n",
    "# Criando Matrix User X Movie\n",
    "df_u_m = df.pivot(index='user_id', columns='movie_id', values='rating')"
   ]
  },
  {
   "cell_type": "code",
   "execution_count": 3,
   "metadata": {},
   "outputs": [],
   "source": [
    "# Calculando correlação de pearson\n",
    "sim_i_v = df_u_m.corr(method='pearson')"
   ]
  },
  {
   "cell_type": "code",
   "execution_count": 8,
   "metadata": {},
   "outputs": [],
   "source": [
    "# Implementando predição\n",
    "def predict(u, i, k = 5):\n",
    "    sim_items = sim_i_v[i][~sim_i_v[i].isna()].sort_values(ascending=False).index\n",
    "    rated_items = df_u_m.T[u][df_u_m.T[u] > 0].index\n",
    "    sim_k = np.intersect1d(sim_items, rated_items)\n",
    "    top_k = [x for x in sim_items if x in sim_k][:k]\n",
    "    sum_sim = 0\n",
    "    dem = 0\n",
    "    mean_i = df_u_m[i].mean(skipna = True)\n",
    "    for v in top_k:\n",
    "        dem += sim_i_v[i][v] * df_u_m[v][u] # - df_u_m[v].mean(skipna = True))\n",
    "        sum_sim += sim_i_v[i][v]\n",
    "    if sum_sim == 0:\n",
    "        return 0\n",
    "    return dem/sum_sim"
   ]
  },
  {
   "cell_type": "code",
   "execution_count": 5,
   "metadata": {},
   "outputs": [],
   "source": [
    "# Avaliando modelo\n",
    "def rmse(test):\n",
    "    sum_err = 0\n",
    "    for t in test:\n",
    "        u = t[0]\n",
    "        i = t[1]\n",
    "        r_ui = t[2]\n",
    "        pred = predict(u, i)\n",
    "        error = (r_ui - pred)**2\n",
    "        sum_err += error\n",
    "    return math.sqrt(sum_err/len(test))"
   ]
  },
  {
   "cell_type": "code",
   "execution_count": 9,
   "metadata": {
    "tags": []
   },
   "outputs": [
    {
     "output_type": "execute_result",
     "data": {
      "text/plain": "0.6550000500615237"
     },
     "metadata": {},
     "execution_count": 9
    }
   ],
   "source": [
    "rmse(df.values[:1000])"
   ]
  },
  {
   "cell_type": "code",
   "execution_count": null,
   "metadata": {},
   "outputs": [],
   "source": []
  }
 ],
 "metadata": {
  "language_info": {
   "codemirror_mode": {
    "name": "ipython",
    "version": 3
   },
   "file_extension": ".py",
   "mimetype": "text/x-python",
   "name": "python",
   "nbconvert_exporter": "python",
   "pygments_lexer": "ipython3",
   "version": "3.7.5-final"
  },
  "orig_nbformat": 2,
  "kernelspec": {
   "name": "python37564bitenvvenv0051dd1aa89b40c684020d4944b45907",
   "display_name": "Python 3.7.5 64-bit ('.env': venv)"
  }
 },
 "nbformat": 4,
 "nbformat_minor": 2
}