{
 "cells": [
  {
   "cell_type": "code",
   "execution_count": 73,
   "metadata": {},
   "outputs": [],
   "source": [
    "import pandas as pd\n",
    "import numpy as np\n",
    "from scipy.sparse.linalg import svds\n",
    "import math\n",
    "\n",
    "import time"
   ]
  },
  {
   "cell_type": "code",
   "execution_count": 74,
   "metadata": {},
   "outputs": [],
   "source": [
    "# Importando .csv\n",
    "train = pd.read_csv('dataset/train_data.csv')"
   ]
  },
  {
   "cell_type": "code",
   "execution_count": 75,
   "metadata": {
    "tags": []
   },
   "outputs": [],
   "source": [
    "# No SVD, o 0 representa valores desconhecidos\n",
    "def svd_algebra(train):\n",
    "    global_mean = train[\"rating\"].mean()\n",
    "    users = pd.Series(range(1,train[\"user_id\"].max()+1), name=\"user_id\")\n",
    "    movies = pd.Series(range(1,train[\"movie_id\"].max()+1), name=\"movie_id\")\n",
    "    df_u_m = train.pivot(index='user_id', columns='movie_id', values='rating')\n",
    "    df_u_m = pd.DataFrame(df_u_m, index=users, columns=movies)\n",
    "    # df_u_m.fillna(value=global_mean, inplace=True)\n",
    "    df_u_m.fillna(value=0, inplace=True)\n",
    "    U, s, Vh = np.linalg.svd(df_u_m.values)\n",
    "    return { \"u\": U, \"s\": s, \"v\": Vh }"
   ]
  },
  {
   "cell_type": "code",
   "execution_count": 76,
   "metadata": {},
   "outputs": [],
   "source": [
    "def predict(model, u,i, k = 5):\n",
    "    p2 = model[\"u\"][u, :k]\n",
    "    q2 = model[\"v\"][i, :k]\n",
    "    s2 = model[\"s\"][:k]\n",
    "    return p2.dot(np.diag(s2)).dot(q2)"
   ]
  },
  {
   "cell_type": "code",
   "execution_count": 77,
   "metadata": {},
   "outputs": [],
   "source": [
    "# Avaliando predições\n",
    "def rmse(model, test, k = 5):\n",
    "    sum_err = 0\n",
    "    for t in test:\n",
    "        u = t[0]-1\n",
    "        i = t[1]-1\n",
    "        r_ui = t[2]\n",
    "        pred = predict(model,u, i, k)\n",
    "        error = (r_ui - pred)**2\n",
    "        sum_err += error\n",
    "    return math.sqrt(sum_err/len(test))"
   ]
  },
  {
   "cell_type": "code",
   "execution_count": 78,
   "metadata": {},
   "outputs": [],
   "source": [
    "def validation(model, data, train_split = 0.75, k = 5):\n",
    "    data = data.sample(frac=1)\n",
    "    train_len = int(train_split * len(data))\n",
    "    train = data[:train_len]\n",
    "    test = data[train_len:].values\n",
    "\n",
    "    start_time = time.time()\n",
    "    model = model(train)\n",
    "    print(\"Tempo de treinamento em segundos: \", time.time() - start_time)\n",
    "    start_time = time.time()\n",
    "    print(\"RMSE :\", rmse(model, test, k))\n",
    "    print(\"Tempo de predição em segundos: \", time.time() - start_time)"
   ]
  },
  {
   "cell_type": "code",
   "execution_count": 79,
   "metadata": {},
   "outputs": [],
   "source": [
    "# rmse(df.values[:10])"
   ]
  },
  {
   "cell_type": "code",
   "execution_count": 80,
   "metadata": {
    "tags": []
   },
   "outputs": [
    {
     "output_type": "stream",
     "name": "stdout",
     "text": "Tempo de treinamento em segundos:  30.423816680908203\nRMSE : 3.837957981302117\nTempo de predição em segundos:  1.5704355239868164\n"
    }
   ],
   "source": [
    "validation(svd_algebra, train, 0.75,k = 5)"
   ]
  },
  {
   "cell_type": "markdown",
   "metadata": {},
   "source": [
    "## Execução 1 treino 75% k = 10 (misturando todos os usuários) e média global\n",
    "Tempo de treinamento em segundos:  25.135908365249634 <br />\n",
    "RMSE : 5.3744788621470185 <br />\n",
    "Tempo de predição em segundos:  1.3862569332122803 <br />\n",
    "\n",
    "## Execução 2 treino 75% k = 10 (misturando todos os usuários) e com 0\n",
    "Tempo de treinamento em segundos:  27.009052991867065 <br />\n",
    "RMSE : 3.8223417939227353 <br />\n",
    "Tempo de predição em segundos:  1.4589087963104248 <br />\n",
    "\n",
    "## Execução 3 treino 75% k = 100 (misturando todos os usuários) e com 0\n",
    "Tempo de treinamento em segundos:  31.526059865951538 <br />\n",
    "RMSE : 3.8395565904734363 <br />\n",
    "Tempo de predição em segundos:  9.630928993225098 <br />\n",
    "\n",
    "## Execução 4 treino 75% k = 1000 (misturando todos os usuários) e com 0\n",
    "Tempo de treinamento em segundos:  31.530203580856323 <br />\n",
    "RMSE : 3.8822722385473316 <br />\n",
    "Tempo de predição em segundos:  407.36043882369995 <br />\n",
    "\n",
    "## Execução 5 treino 75% k = 5 (misturando todos os usuários) e com 0\n",
    "Tempo de treinamento em segundos:  30.864771842956543 <br />\n",
    "RMSE : 3.8119544174363806 <br /> \n",
    "Tempo de predição em segundos:  1.5278677940368652 <br />\n",
    "\n",
    "## Execução 6 treino 75% k = 5 (misturando todos os usuários) e com média do item\n",
    "Tempo de treinamento em segundos:  29.900591373443604 <br />\n",
    "RMSE : 5.0837250874946465 <br />\n",
    "Tempo de predição em segundos:  1.515906572341919 <br />"
   ]
  }
 ],
 "metadata": {
  "language_info": {
   "codemirror_mode": {
    "name": "ipython",
    "version": 3
   },
   "file_extension": ".py",
   "mimetype": "text/x-python",
   "name": "python",
   "nbconvert_exporter": "python",
   "pygments_lexer": "ipython3",
   "version": "3.7.5-final"
  },
  "orig_nbformat": 2,
  "kernelspec": {
   "name": "python37564bitenvvenv0051dd1aa89b40c684020d4944b45907",
   "display_name": "Python 3.7.5 64-bit ('.env': venv)"
  }
 },
 "nbformat": 4,
 "nbformat_minor": 2
}