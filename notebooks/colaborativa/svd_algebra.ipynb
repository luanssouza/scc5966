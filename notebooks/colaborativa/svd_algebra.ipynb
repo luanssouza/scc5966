{
 "cells": [
  {
   "cell_type": "code",
   "execution_count": 24,
   "metadata": {},
   "outputs": [],
   "source": [
    "import pandas as pd\n",
    "import numpy as np\n",
    "from scipy.sparse.linalg import svds\n",
    "import math"
   ]
  },
  {
   "cell_type": "code",
   "execution_count": 25,
   "metadata": {},
   "outputs": [],
   "source": [
    "# Importando .csv\n",
    "df = pd.read_csv('dataset/train_data.csv')\n",
    "movies = pd.read_csv('dataset/movies_data.csv')\n",
    "users = pd.read_csv('dataset/users_data.csv')\n",
    "\n",
    "# Criando Matrix User X Movie\n",
    "df_u_m = df.pivot(index='user_id', columns='movie_id', values='rating')\n",
    "df_u_m = pd.DataFrame(df_u_m, index=users[\"user_id\"], columns=movies[\"movie_id\"])"
   ]
  },
  {
   "cell_type": "code",
   "execution_count": 26,
   "metadata": {
    "tags": []
   },
   "outputs": [],
   "source": [
    "# No SVD, o 0 representa valores desconhecidos\n",
    "df_u_m.fillna(value=0, inplace=True)\n",
    "U, s, Vh = np.linalg.svd(df_u_m.values)"
   ]
  },
  {
   "cell_type": "code",
   "execution_count": 27,
   "metadata": {},
   "outputs": [],
   "source": [
    "def predict(u,i, k = 5):\n",
    "    p2 = U[u, :k]\n",
    "    q2 = Vh[i, :k]\n",
    "    s2 = s[:k]\n",
    "    # r = 0\n",
    "    # for i in range(len(u)):\n",
    "    #     r += u[i]*s[i]*v[i]\n",
    "    # return(r)\n",
    "    return p2.dot(np.diag(s2)).dot(q2)"
   ]
  },
  {
   "cell_type": "code",
   "execution_count": 28,
   "metadata": {},
   "outputs": [],
   "source": [
    "# Avaliando predições\n",
    "def rmse(test):\n",
    "    sum_err = 0\n",
    "    for t in test:\n",
    "        u = t[0]-1\n",
    "        i = t[1]-1\n",
    "        r_ui = t[2]\n",
    "        pred = predict(u, i)\n",
    "        error = (r_ui - pred)**2\n",
    "        sum_err += error\n",
    "    return math.sqrt(sum_err/len(test))"
   ]
  },
  {
   "cell_type": "code",
   "execution_count": 29,
   "metadata": {},
   "outputs": [
    {
     "output_type": "execute_result",
     "data": {
      "text/plain": "4.015704107152739"
     },
     "metadata": {},
     "execution_count": 29
    }
   ],
   "source": [
    "rmse(df.values[:10])"
   ]
  },
  {
   "cell_type": "code",
   "execution_count": null,
   "metadata": {},
   "outputs": [],
   "source": []
  }
 ],
 "metadata": {
  "language_info": {
   "codemirror_mode": {
    "name": "ipython",
    "version": 3
   },
   "file_extension": ".py",
   "mimetype": "text/x-python",
   "name": "python",
   "nbconvert_exporter": "python",
   "pygments_lexer": "ipython3",
   "version": "3.7.5-final"
  },
  "orig_nbformat": 2,
  "kernelspec": {
   "name": "python37564bitenvvenv0051dd1aa89b40c684020d4944b45907",
   "display_name": "Python 3.7.5 64-bit ('.env': venv)"
  }
 },
 "nbformat": 4,
 "nbformat_minor": 2
}