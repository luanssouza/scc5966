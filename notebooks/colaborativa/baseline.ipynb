{
 "cells": [
  {
   "cell_type": "code",
   "execution_count": 11,
   "metadata": {},
   "outputs": [],
   "source": [
    "import pandas as pd\n",
    "import numpy as np\n",
    "import math\n",
    "\n",
    "import time"
   ]
  },
  {
   "cell_type": "code",
   "execution_count": 12,
   "metadata": {},
   "outputs": [],
   "source": [
    "# Importando .csv\n",
    "train = pd.read_csv('dataset/train_data.csv')"
   ]
  },
  {
   "cell_type": "code",
   "execution_count": 13,
   "metadata": {},
   "outputs": [],
   "source": [
    "# Implementando baseline\n",
    "def baseline(train):\n",
    "    mean = train[\"rating\"].mean(skipna = True)\n",
    "    users = train.pivot(index='movie_id', columns='user_id', values='rating')\n",
    "    items = train.pivot(index='user_id', columns='movie_id', values='rating')\n",
    "    nusers = train.values[:, 0].max()+1\n",
    "    nitems = train.values[:, 1].max()+1\n",
    "    bu = np.full(nusers, np.nan, dtype=float)\n",
    "    bi = np.full(nitems, np.nan, dtype=float)\n",
    "\n",
    "    for i in items.columns.values:\n",
    "        bi[i] = np.nanmean(items[i] - mean)\n",
    "\n",
    "    aux = bi[~np.isnan(bi)]\n",
    "    for u in users.columns.values:\n",
    "        bu[u] = np.nanmean(users[u] - mean - aux)\n",
    "\n",
    "    bi = np.nan_to_num(bi)\n",
    "    bu = np.nan_to_num(bu)\n",
    "    \n",
    "    return { \"bu\" : bu, \"bi\": bi, \"mean\": mean }"
   ]
  },
  {
   "cell_type": "code",
   "execution_count": 14,
   "metadata": {},
   "outputs": [],
   "source": [
    "# Predizendo nota\n",
    "def predict(model, u, i):\n",
    "    return model[\"mean\"] + model[\"bu\"][u] + model[\"bi\"][i]"
   ]
  },
  {
   "cell_type": "code",
   "execution_count": 15,
   "metadata": {},
   "outputs": [],
   "source": [
    "# Avaliando predições\n",
    "def rmse(model, test):\n",
    "    sum_err = 0\n",
    "    for t in test:\n",
    "        u = t[0]\n",
    "        i = t[1]\n",
    "        r_ui = t[2]\n",
    "        pred = predict(model, u, i)\n",
    "        error = (r_ui - pred)**2\n",
    "        sum_err += error\n",
    "    return math.sqrt(sum_err/len(test))"
   ]
  },
  {
   "cell_type": "code",
   "execution_count": 16,
   "metadata": {},
   "outputs": [],
   "source": [
    "def cross_validation(model, data, k_folds = 10):\n",
    "    folds = np.array_split(data.sample(frac=1), k_folds)\n",
    "    for i in range(k_folds):\n",
    "        train = folds.copy()\n",
    "        test = folds[i].values\n",
    "        del train[i]\n",
    "        train = pd.concat(train, sort=False)\n",
    "        model_k = model(train)\n",
    "        print(\"Iteração {0}: {1}\".format(i+1, rmse(model_k, test)))\n",
    "\n",
    "def validation(model, data, train_split = 0.75):\n",
    "    data = data.sample(frac=1)\n",
    "    train_len = int(train_split * len(data))\n",
    "    train = data[:train_len]\n",
    "    test = data[train_len:].values\n",
    "\n",
    "    start_time = time.time()\n",
    "    model = model(train)\n",
    "    print(\"Tempo de treinamento em segundos: \", time.time() - start_time)\n",
    "    start_time = time.time()\n",
    "    print(\"RMSE :\", rmse(model, test))\n",
    "    print(\"Tempo de predição em segundos: \", time.time() - start_time)"
   ]
  },
  {
   "cell_type": "code",
   "execution_count": 17,
   "metadata": {
    "tags": []
   },
   "outputs": [],
   "source": [
    "# baseline = baseline(train)"
   ]
  },
  {
   "cell_type": "code",
   "execution_count": 18,
   "metadata": {
    "tags": []
   },
   "outputs": [],
   "source": [
    "# rmse(baseline, train.values[401838:])"
   ]
  },
  {
   "cell_type": "code",
   "execution_count": 19,
   "metadata": {
    "tags": []
   },
   "outputs": [
    {
     "output_type": "stream",
     "name": "stdout",
     "text": "Tempo de treinamento em segundos:  2.885563850402832\nRMSE : 0.90971936077354\nTempo de predição em segundos:  0.5346899032592773\n"
    }
   ],
   "source": [
    "validation(baseline, train, 0.75)"
   ]
  },
  {
   "cell_type": "markdown",
   "metadata": {},
   "source": [
    "## Execução 1 treino 75%\n",
    "\n",
    "Tempo de treinamento em segundos: 3.1792304515838623  <br />\n",
    "RMSE : 0.9093269779125659  <br />\n",
    "Tempo de predição em segundos:  0.6293540000915527  <br />"
   ]
  }
 ],
 "metadata": {
  "language_info": {
   "codemirror_mode": {
    "name": "ipython",
    "version": 3
   },
   "file_extension": ".py",
   "mimetype": "text/x-python",
   "name": "python",
   "nbconvert_exporter": "python",
   "pygments_lexer": "ipython3",
   "version": "3.7.5-final"
  },
  "orig_nbformat": 2,
  "kernelspec": {
   "name": "python37564bitenvvenv0051dd1aa89b40c684020d4944b45907",
   "display_name": "Python 3.7.5 64-bit ('.env': venv)"
  }
 },
 "nbformat": 4,
 "nbformat_minor": 2
}