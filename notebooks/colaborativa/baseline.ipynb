{
 "cells": [
  {
   "cell_type": "code",
   "execution_count": 1,
   "metadata": {},
   "outputs": [],
   "source": [
    "import pandas as pd\n",
    "import numpy as np\n",
    "import math\n",
    "\n",
    "import time"
   ]
  },
  {
   "cell_type": "code",
   "execution_count": 2,
   "metadata": {},
   "outputs": [],
   "source": [
    "# Importando .csv\n",
    "train = pd.read_csv('dataset/train_data.csv')"
   ]
  },
  {
   "cell_type": "code",
   "execution_count": null,
   "metadata": {},
   "outputs": [],
   "source": [
    "# Implementando baseline\n",
    "def baseline(train):\n",
    "    mean = train[\"rating\"].mean(skipna = True)\n",
    "    users = train.pivot(index='movie_id', columns='user_id', values='rating')\n",
    "    items = train.pivot(index='user_id', columns='movie_id', values='rating')\n",
    "    nusers = train.values[:, 0].max()+1\n",
    "    nitems = train.values[:, 1].max()+1\n",
    "    bu = np.full(nusers, np.nan, dtype=float)\n",
    "    bi = np.full(nitems, np.nan, dtype=float)\n",
    "\n",
    "    for i in items.columns.values:\n",
    "        bi[i] = np.nanmean(items[i] - mean)\n",
    "\n",
    "    aux = bi[~np.isnan(bi)]\n",
    "    for u in users.columns.values:\n",
    "        bu[u] = np.nanmean(users[u] - mean - aux)\n",
    "\n",
    "    bi = np.nan_to_num(bi)\n",
    "    bu = np.nan_to_num(bu)\n",
    "    \n",
    "    return { \"bu\" : bu, \"bi\": bi, \"mean\": mean }"
   ]
  },
  {
   "cell_type": "code",
   "execution_count": 4,
   "metadata": {},
   "outputs": [],
   "source": [
    "# Predizendo nota\n",
    "def predict(model, u, i):\n",
    "    return model[\"mean\"] + model[\"bu\"][u] + model[\"bi\"][i]"
   ]
  },
  {
   "cell_type": "code",
   "execution_count": 5,
   "metadata": {},
   "outputs": [],
   "source": [
    "# Avaliando predições\n",
    "def rmse(model, test):\n",
    "    sum_err = 0\n",
    "    for t in test:\n",
    "        u = t[0]\n",
    "        i = t[1]\n",
    "        r_ui = t[2]\n",
    "        pred = predict(model, u, i)\n",
    "        error = (r_ui - pred)**2\n",
    "        sum_err += error\n",
    "    return math.sqrt(sum_err/len(test))"
   ]
  },
  {
   "cell_type": "code",
   "execution_count": 40,
   "metadata": {},
   "outputs": [],
   "source": [
    "def cross_validation(model, data, k_folds = 10):\n",
    "    folds = np.array_split(data.sample(frac=1), k_folds)\n",
    "    for i in range(k_folds):\n",
    "        train = folds.copy()\n",
    "        test = folds[i].values\n",
    "        del train[i]\n",
    "        train = pd.concat(train, sort=False)\n",
    "        model_k = model(train)\n",
    "        print(\"Iteração {0}: {1}\".format(i+1, rmse(model_k, test)))"
   ]
  },
  {
   "cell_type": "code",
   "execution_count": 6,
   "metadata": {
    "tags": []
   },
   "outputs": [],
   "source": [
    "# baseline = baseline(train)"
   ]
  },
  {
   "cell_type": "code",
   "execution_count": 7,
   "metadata": {
    "tags": []
   },
   "outputs": [
    {
     "output_type": "execute_result",
     "data": {
      "text/plain": "0.890356975214376"
     },
     "metadata": {},
     "execution_count": 7
    }
   ],
   "source": [
    "# rmse(baseline, train.values[401838:])"
   ]
  },
  {
   "cell_type": "code",
   "execution_count": 41,
   "metadata": {
    "tags": []
   },
   "outputs": [
    {
     "output_type": "stream",
     "name": "stdout",
     "text": "Iteração 1: 0.9027558085833594\nIteração 2: 0.9068414791638052\nIteração 3: 0.9036722227396531\nIteração 4: 0.9153573260784718\nIteração 5: 0.9080129395767453\nIteração 6: 0.9080010566823896\nIteração 7: 0.9039993390907823\nIteração 8: 0.9049222919249483\nIteração 9: 0.9089968233744676\nIteração 10: 0.9032049150467893\n"
    }
   ],
   "source": [
    "cross_validation(baseline, train, 10)"
   ]
  },
  {
   "cell_type": "code",
   "execution_count": null,
   "metadata": {},
   "outputs": [],
   "source": []
  }
 ],
 "metadata": {
  "language_info": {
   "codemirror_mode": {
    "name": "ipython",
    "version": 3
   },
   "file_extension": ".py",
   "mimetype": "text/x-python",
   "name": "python",
   "nbconvert_exporter": "python",
   "pygments_lexer": "ipython3",
   "version": "3.7.5-final"
  },
  "orig_nbformat": 2,
  "kernelspec": {
   "name": "python37564bitenvvenv0051dd1aa89b40c684020d4944b45907",
   "display_name": "Python 3.7.5 64-bit ('.env': venv)"
  }
 },
 "nbformat": 4,
 "nbformat_minor": 2
}