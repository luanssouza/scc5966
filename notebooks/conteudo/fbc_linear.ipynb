{
 "cells": [
  {
   "cell_type": "markdown",
   "metadata": {},
   "source": [
    "# Filtragem Baseada em Conteudo\n",
    "## Linear"
   ]
  },
  {
   "cell_type": "code",
   "execution_count": 46,
   "metadata": {},
   "outputs": [],
   "source": [
    "import pandas as pd\n",
    "import numpy as np\n",
    "import math\n",
    "\n",
    "import time"
   ]
  },
  {
   "cell_type": "code",
   "execution_count": 47,
   "metadata": {},
   "outputs": [],
   "source": [
    "# Importando .csv\n",
    "train = pd.read_csv('dataset/train_data.csv', header=None,  skiprows=[0], usecols=[0,1,2])\n",
    "\n",
    "# Obtendo generos dos filmes\n",
    "m = pd.read_csv('dataset/movies_data.csv')\n",
    "genres = pd.get_dummies(m.set_index(['movie_id']).genres.str.split('|', expand=True).stack(dropna=False)).sum(level=0)"
   ]
  },
  {
   "cell_type": "code",
   "execution_count": 48,
   "metadata": {},
   "outputs": [],
   "source": [
    "# Função para cria modelo\n",
    "def fbc_linear(train, test, features, lr = 0.05, reg = 0.002, miter = 10):\n",
    "    nusers = np.append(train[:,0], test[:,0]).max()\n",
    "    nitems = np.append(train[:,1], test[:,1]).max()\n",
    "    nfeatures = len(features[1])-1\n",
    "    # features = np.hstack((features,np.ones((len(features),1))))\n",
    "    profiles = np.random.normal(loc = 0, scale = 0.1, size=(nusers, nfeatures+1))\n",
    "    error = list()\n",
    "    for l in range(0, miter):\n",
    "        sq_error = 0\n",
    "        for j in range(0, len(train)):\n",
    "            u = train[j, 0]-1\n",
    "            i = train[j, 1]-1\n",
    "            r_ui = train[j, 2]-1\n",
    "            e_ui = np.dot(profiles[u, ], features[i, ]) - r_ui\n",
    "            sq_error += e_ui**2\n",
    "            for k in range(nfeatures-1):\n",
    "                profiles[u, k] = profiles[u, k] - lr * (e_ui * features[i, k] + reg * profiles[u, k])\n",
    "            k = nfeatures\n",
    "            profiles[u, k] = profiles[u, k] - lr * (e_ui * features[i, k])\n",
    "        error.append(math.sqrt(sq_error/len(train)))\n",
    "    return { \"profiles\": profiles, \"error\": error }\n",
    "\n"
   ]
  },
  {
   "cell_type": "code",
   "execution_count": 49,
   "metadata": {},
   "outputs": [],
   "source": [
    "# Predizendo nota\n",
    "def predict(model, user, item, features):\n",
    "    return np.dot(model[\"profiles\"][user-1, ], features[item-1, ])"
   ]
  },
  {
   "cell_type": "code",
   "execution_count": 50,
   "metadata": {},
   "outputs": [],
   "source": [
    "# Avaliando predições\n",
    "def rmse(model, test, features):\n",
    "    sum_err = 0\n",
    "    for t in test:\n",
    "        u = t[0]\n",
    "        i = t[1]\n",
    "        r_ui = t[2]\n",
    "        pred = predict(model, u, i, features)\n",
    "        error = (r_ui - pred)**2\n",
    "        sum_err += error\n",
    "    return math.sqrt(sum_err/len(test))"
   ]
  },
  {
   "cell_type": "code",
   "execution_count": 51,
   "metadata": {},
   "outputs": [],
   "source": [
    "def validation(model, data, features, train_split = 0.75, lr = 0.05, reg = 0.02, miter = 10):\n",
    "    data = data.sample(frac=1)\n",
    "    train_len = int(train_split * len(data))\n",
    "    \n",
    "    test = data[train_len:].values\n",
    "\n",
    "    train_len = int(train_split * train_len)\n",
    "    train = data[:train_len].values\n",
    "    train_validation = data[train_len:].values\n",
    "\n",
    "    start_time = time.time()\n",
    "    model = model(train, train_validation, features, lr, reg, miter)\n",
    "    print(\"Tempo de treinamento em segundos: \", time.time() - start_time)\n",
    "    start_time = time.time()\n",
    "    print(\"RMSE :\", rmse(model, test, features))\n",
    "    print(\"Tempo de predição em segundos: \", time.time() - start_time)"
   ]
  },
  {
   "cell_type": "code",
   "execution_count": 52,
   "metadata": {},
   "outputs": [],
   "source": [
    "# model = fbc_linear(r.values[:482205], r.values[482205:], genres.values)"
   ]
  },
  {
   "cell_type": "code",
   "execution_count": 53,
   "metadata": {},
   "outputs": [],
   "source": [
    "# rmse(model, r.values[482205:], genres.values)"
   ]
  },
  {
   "cell_type": "code",
   "execution_count": 54,
   "metadata": {
    "tags": []
   },
   "outputs": [
    {
     "output_type": "stream",
     "name": "stdout",
     "text": "Tempo de treinamento em segundos:  102.38923835754395\nRMSE : 1.4714520646681342\nTempo de predição em segundos:  0.9514524936676025\n"
    }
   ],
   "source": [
    "features = genres.values\n",
    "features = np.hstack((features,np.ones((len(features),1))))\n",
    "validation(fbc_linear, train, features, 0.75, lr = 0.05, reg = 0.02, miter = 10)"
   ]
  },
  {
   "cell_type": "markdown",
   "metadata": {},
   "source": [
    "## Execução 1 treino 75% lr = 0.05, reg = 0.02, miter = 1\n",
    "Tempo de treinamento em segundos:  8.421872615814209 <br />\n",
    "RMSE : 1.535468933491189 <br />\n",
    "Tempo de predição em segundos:  0.9305610656738281 <br />\n",
    "\n",
    "## Execução 2 treino 75% lr = 0.05, reg = 0.02, miter = 10\n",
    "Tempo de treinamento em segundos:  88.66791653633118 <br />\n",
    "RMSE : 1.4554809871965142 <br />\n",
    "Tempo de predição em segundos:  0.8296205997467041 <br />\n",
    "\n",
    "## Execução 3 treino 75% lr = 0.10, reg = 0.05, miter = 10\n",
    "Tempo de treinamento em segundos:  92.5954806804657 <br />\n",
    "RMSE : 1.4727703422035867 <br />\n",
    "Tempo de predição em segundos:  0.9102404117584229 <br />\n",
    "\n",
    "## Execução 3 treino 75%  lr = 0.10, reg = 0.10, miter = 10\n",
    "Tempo de treinamento em segundos:  102.38923835754395 <br />\n",
    "RMSE : 1.4714520646681342 <br />\n",
    "Tempo de predição em segundos:  0.9514524936676025 <br />"
   ]
  }
 ],
 "metadata": {
  "language_info": {
   "codemirror_mode": {
    "name": "ipython",
    "version": 3
   },
   "file_extension": ".py",
   "mimetype": "text/x-python",
   "name": "python",
   "nbconvert_exporter": "python",
   "pygments_lexer": "ipython3",
   "version": "3.7.5-final"
  },
  "orig_nbformat": 2,
  "kernelspec": {
   "name": "python37564bitenvvenv0051dd1aa89b40c684020d4944b45907",
   "display_name": "Python 3.7.5 64-bit ('.env': venv)"
  }
 },
 "nbformat": 4,
 "nbformat_minor": 2
}