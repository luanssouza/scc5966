{
 "cells": [
  {
   "cell_type": "markdown",
   "metadata": {},
   "source": [
    "# Filtragem Baseada em Conteudo\n",
    "## KNN"
   ]
  },
  {
   "cell_type": "code",
   "execution_count": 9,
   "metadata": {},
   "outputs": [],
   "source": [
    "import pandas as pd\n",
    "import numpy as np\n",
    "from scipy.spatial import distance\n",
    "import math\n",
    "\n",
    "import time"
   ]
  },
  {
   "cell_type": "code",
   "execution_count": 10,
   "metadata": {},
   "outputs": [],
   "source": [
    "# Importando .csv\n",
    "train = pd.read_csv('dataset/train_data.csv', header=None,  skiprows=[0], usecols=[0,1,2])\n",
    "m = pd.read_csv('dataset/movies_data.csv')\n",
    "\n",
    "# Obtendo generos dos filmes\n",
    "m = pd.read_csv('dataset/movies_data.csv')\n",
    "genres = pd.get_dummies(m.set_index(['movie_id']).genres.str.split('|', expand=True).stack(dropna=False)).sum(level=0)"
   ]
  },
  {
   "cell_type": "code",
   "execution_count": 11,
   "metadata": {},
   "outputs": [],
   "source": [
    "# Função para cria modelo\n",
    "def fbc_knn(train, features, k = 4):\n",
    "    ratings = train.pivot(index=1, columns=0, values=2)\n",
    "    ratings.fillna(0.0, inplace=True)\n",
    "    sim = genres.T.corr(method=distance.jaccard)\n",
    "    sim.fillna(0.0, inplace=True)\n",
    "\n",
    "    return { \"sim\": sim, \"K\": k, \"ratings\": ratings }"
   ]
  },
  {
   "cell_type": "code",
   "execution_count": 12,
   "metadata": {},
   "outputs": [],
   "source": [
    "# Função de predição\n",
    "def predict(model, user, item, k = 5):\n",
    "    sim = model[\"sim\"]\n",
    "    ratings = model[\"ratings\"]\n",
    "    if item not in sim or user not in ratings:\n",
    "        return 0\n",
    "    sim_items = sim[item].sort_values(ascending=False).index\n",
    "    rated_items = ratings[user][ratings[user] > 0].index\n",
    "    sim_k = np.intersect1d(sim_items, rated_items)\n",
    "    top_k = []\n",
    "    for x in sim_items:\n",
    "        if k <= -1:\n",
    "            break\n",
    "        if x in sim_k:\n",
    "            top_k.append(x)\n",
    "            k-=1\n",
    "    # sim_k = [x for x in sim_items if x in sim_k][:k]\n",
    "    top_k = sim_k\n",
    "    sumSim = 0.0\n",
    "    sumWeight = 0.0\n",
    "    for j in sim_k:\n",
    "        sumSim += sim[item][j]\n",
    "        sumWeight += sim[item][j] * ratings[user][j]\n",
    "    if sumSim == 0.0:\n",
    "        return 0\n",
    "\n",
    "    return sumWeight/sumSim"
   ]
  },
  {
   "cell_type": "code",
   "execution_count": 13,
   "metadata": {
    "tags": []
   },
   "outputs": [],
   "source": [
    "# Avaliando predições\n",
    "def rmse(model, test, k = 5):\n",
    "    sum_err = 0\n",
    "    for t in test:\n",
    "        u = t[0]\n",
    "        i = t[1]\n",
    "        r_ui = t[2]\n",
    "        pred = predict(model, u, i, k)\n",
    "        error = (r_ui - pred)**2\n",
    "        sum_err += error\n",
    "    return math.sqrt(sum_err/len(test))"
   ]
  },
  {
   "cell_type": "code",
   "execution_count": 14,
   "metadata": {},
   "outputs": [],
   "source": [
    "def validation(model, data, features,  train_split = 0.75, k = 5):\n",
    "    data = data.sample(frac=1)\n",
    "    train_len = int(train_split * len(data))\n",
    "    train = data[:train_len]\n",
    "    test = data[train_len:].values\n",
    "\n",
    "    start_time = time.time()\n",
    "    model = model(train, features)\n",
    "    print(\"Tempo de treinamento em segundos: \", time.time() - start_time)\n",
    "    start_time = time.time()\n",
    "    print(\"RMSE :\", rmse(model, test, k))\n",
    "    print(\"Tempo de predição em segundos: \", time.time() - start_time)"
   ]
  },
  {
   "cell_type": "code",
   "execution_count": 15,
   "metadata": {
    "tags": []
   },
   "outputs": [],
   "source": [
    "# rmse(model, r.values[535000:])"
   ]
  },
  {
   "cell_type": "code",
   "execution_count": 16,
   "metadata": {
    "tags": []
   },
   "outputs": [
    {
     "output_type": "stream",
     "name": "stdout",
     "text": "Tempo de treinamento em segundos:  158.92344737052917\nRMSE : 1.0428914475503248\nTempo de predição em segundos:  2037.5774657726288\n"
    }
   ],
   "source": [
    "features = genres.values\n",
    "features = np.hstack((features,np.ones((len(features),1))))\n",
    "validation(fbc_knn, train, features, 0.75, 15)"
   ]
  },
  {
   "cell_type": "markdown",
   "metadata": {},
   "source": [
    "## Execução 1 treino 75% k = 10 (misturando todos os usuários)\n",
    "Tempo de treinamento em segundos:  155.23047995567322 <br />\n",
    "RMSE : 1.1807414506623164 <br />\n",
    "Tempo de predição em segundos:  1679.8644750118256 <br />\n",
    "\n",
    "## Execução 2 treino 93% k = 5 (misturando todos os usuários)\n",
    "Tempo de treinamento em segundos:  164.93956518173218 <br />\n",
    "RMSE : 1.046533140508873 <br />\n",
    "Tempo de predição em segundos:  1085.375151872635 <br />\n",
    "\n",
    "## Execução 3 treino 93% k = 10 (misturando todos os usuários)\n",
    "Tempo de treinamento em segundos:  259.33242893218994 <br />\n",
    "RMSE : 1.040549165141219 <br />\n",
    "Tempo de predição em segundos:  810.3907425403595 <br />\n",
    "\n",
    "## Execução 4 treino 75% k = 5 (misturando todos os usuários)\n",
    "Tempo de treinamento em segundos:  180.85930705070496 <br />\n",
    "RMSE : 1.042281858212767 <br />\n",
    "Tempo de predição em segundos:  2381.4849865436554 <br />\n",
    "\n",
    "## Execução 5 treino 75% k = 10 (misturando todos os usuários)\n",
    "Tempo de treinamento em segundos:  210.99122667312622 <br />\n",
    "RMSE : 1.0426094798929306 <br />\n",
    "Tempo de predição em segundos:  2519.689395427704 <br />\n",
    "\n",
    "## Execução 6 treino 75% k = 10 (misturando todos os usuários)\n",
    "Tempo de treinamento em segundos:  179.80445313453674 <br />\n",
    "RMSE : 1.0433772019897898 <br />\n",
    "Tempo de predição em segundos:  1994.827300786972 <br />\n",
    "\n",
    "## Execução 7 treino 75% k = 15 (misturando todos os usuários)\n",
    "Tempo de treinamento em segundos:  158.92344737052917 <br />\n",
    "RMSE : 1.0428914475503248 <br />\n",
    "Tempo de predição em segundos:  2037.5774657726288 <br />"
   ]
  }
 ],
 "metadata": {
  "language_info": {
   "codemirror_mode": {
    "name": "ipython",
    "version": 3
   },
   "file_extension": ".py",
   "mimetype": "text/x-python",
   "name": "python",
   "nbconvert_exporter": "python",
   "pygments_lexer": "ipython3",
   "version": "3.7.5-final"
  },
  "orig_nbformat": 2,
  "kernelspec": {
   "name": "python37564bitenvvenv0051dd1aa89b40c684020d4944b45907",
   "display_name": "Python 3.7.5 64-bit ('.env': venv)"
  }
 },
 "nbformat": 4,
 "nbformat_minor": 2
}