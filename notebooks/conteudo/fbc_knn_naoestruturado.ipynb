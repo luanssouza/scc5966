{
 "cells": [
  {
   "cell_type": "code",
   "execution_count": null,
   "metadata": {},
   "outputs": [],
   "source": [
    "import pandas as pd\n",
    "import numpy as np\n",
    "from scipy.spatial import distance\n",
    "import math\n",
    "\n",
    "from sklearn.feature_extraction.text import TfidfVectorizer\n",
    "from sklearn.metrics import pairwise_distances\n",
    "from sklearn.metrics.pairwise import cosine_similarity\n",
    "from scipy.sparse import csr_matrix\n",
    "\n",
    "import time"
   ]
  },
  {
   "cell_type": "code",
   "execution_count": null,
   "metadata": {},
   "outputs": [],
   "source": [
    "train = pd.read_csv('dataset/train_data.csv', header=None,  skiprows=[0], usecols=[0,1,2])\n",
    "test = pd.read_csv('dataset/test_data.csv')"
   ]
  },
  {
   "cell_type": "code",
   "execution_count": null,
   "metadata": {},
   "outputs": [],
   "source": [
    "mv = pd.read_csv('dataset/movie_reviews.csv')\n",
    "\n",
    "train_movies = pd.read_csv('dataset/movies_data.csv')"
   ]
  },
  {
   "cell_type": "code",
   "execution_count": null,
   "metadata": {},
   "outputs": [],
   "source": [
    "def fbc_knn(train, features, k = 5):\n",
    "    ratings = train.pivot(index=1, columns=0, values=2)\n",
    "    ratings.fillna(0.0, inplace=True)\n",
    "\n",
    "    sim = cosine_similarity(csr_matrix(features))\n",
    "    sim = pd.DataFrame(data=sim, index=mv[\"movie_id\"].unique())\n",
    "    sim = pd.DataFrame(data=sim, index=train_movies[\"movie_id\"].unique())\n",
    "\n",
    "    sim.fillna(0.0, inplace=True)\n",
    "\n",
    "    return { \"sim\": sim, \"K\": k, \"ratings\": ratings }"
   ]
  },
  {
   "cell_type": "code",
   "execution_count": null,
   "metadata": {},
   "outputs": [],
   "source": [
    "def predict(model, user, item, k = 5):\n",
    "    sim = model[\"sim\"]\n",
    "    ratings = model[\"ratings\"]\n",
    "    if item not in sim or user not in ratings:\n",
    "        return 0\n",
    "    sim_items = sim[item].sort_values(ascending=False).index\n",
    "    rated_items = ratings[user][ratings[user] > 0].index\n",
    "    sim_k = np.intersect1d(sim_items, rated_items)\n",
    "    top_k = []\n",
    "    for x in sim_items:\n",
    "        if k <= -1:\n",
    "            break\n",
    "        if x in sim_k:\n",
    "            top_k.append(x)\n",
    "            k-=1\n",
    "    # sim_k = [x for x in sim_items if x in sim_k][:k]\n",
    "    top_k = sim_k\n",
    "    sumSim = 0.0\n",
    "    sumWeight = 0.0\n",
    "    for j in sim_k:\n",
    "        sumSim += sim[item][j]\n",
    "        sumWeight += sim[item][j] * ratings[user][j]\n",
    "    if sumSim == 0.0:\n",
    "        return 0\n",
    "\n",
    "    return sumWeight/sumSim"
   ]
  },
  {
   "cell_type": "code",
   "execution_count": null,
   "metadata": {},
   "outputs": [],
   "source": [
    "# Avaliando predições\n",
    "def rmse(model, test, k = 5):\n",
    "    sum_err = 0\n",
    "    for t in test:\n",
    "        u = t[0]\n",
    "        i = t[1]\n",
    "        r_ui = t[2]\n",
    "        pred = predict(model, u, i, k)\n",
    "        error = (r_ui - pred)**2\n",
    "        sum_err += error\n",
    "    return math.sqrt(sum_err/len(test))"
   ]
  },
  {
   "cell_type": "code",
   "execution_count": null,
   "metadata": {},
   "outputs": [],
   "source": [
    "def validation(model, data, features,  train_split = 0.75, k = 5):\n",
    "    data = data.sample(frac=1)\n",
    "    train_len = int(train_split * len(data))\n",
    "    train = data[:train_len]\n",
    "    test = data[train_len:].values\n",
    "\n",
    "    start_time = time.time()\n",
    "    model = model(train, features)\n",
    "    print(\"Tempo de treinamento em segundos: \", time.time() - start_time)\n",
    "    start_time = time.time()\n",
    "    print(\"RMSE :\", rmse(model, test, k))\n",
    "    print(\"Tempo de predição em segundos: \", time.time() - start_time)"
   ]
  },
  {
   "cell_type": "code",
   "execution_count": null,
   "metadata": {
    "tags": []
   },
   "outputs": [],
   "source": [
    "v = TfidfVectorizer()\n",
    "features = v.fit_transform(mv.groupby(\"movie_id\")[\"text\"].apply(lambda x: (x + \" \").sum()))\n",
    "# feature_names_x = v.get_feature_names()\n",
    "# dense_x = x.todense()\n",
    "# denselist_x = dense_x.tolist()\n",
    "\n",
    "# tfidf = pd.DataFrame(denselist_x, columns=feature_names_x)\n",
    "validation(fbc_knn, train, features, 0.93, 5)"
   ]
  },
  {
   "cell_type": "markdown",
   "metadata": {},
   "source": [
    "## Execução teste com distância de cosseno k=10 treino=93%\n",
    "Tempo de treinamento em segundos:  5.410625219345093 <br>\n",
    "RMSE : 2.0719085230048155 <br>\n",
    "Tempo de predição em segundos:  569.2161264419556 <br>\n",
    "\n",
    "## Execução teste com similaridade de cosseno k=10 treino=93%\n",
    "Tempo de treinamento em segundos:  5.874245882034302 <br>\n",
    "RMSE : 2.0298423556333227 <br>\n",
    "Tempo de predição em segundos:  493.27765107154846 <br>\n",
    "\n",
    "## Execução teste com similaridade de cosseno k=5 treino=93%\n",
    "Tempo de treinamento em segundos:  5.544472694396973 <br>\n",
    "RMSE : 2.0474095654885294 <br>\n",
    "Tempo de predição em segundos:  512.1445598602295 <br>"
   ]
  },
  {
   "cell_type": "code",
   "execution_count": null,
   "metadata": {},
   "outputs": [],
   "source": [
    "# tfidf = pd.DataFrame(data=sim, index=mv[\"movie_id\"].unique())\n",
    "# tfidf = pd.DataFrame(data=tfidf, index=train_movies[\"movie_id\"].unique())\n",
    "# tfidf = tfidf.fillna(0)"
   ]
  },
  {
   "cell_type": "code",
   "execution_count": null,
   "metadata": {},
   "outputs": [],
   "source": [
    "# df_tfidf = pd.read_csv('dataset/tfidf_movies.csv')\n",
    "# df_tfidf = pd.DataFrame(data=df_tfidf.values, index=mv[\"movie_id\"].unique(), columns=df_tfidf.columns)\n",
    "# tfidf = pd.DataFrame(data=df_tfidf, index=train_movies[\"movie_id\"].unique(), columns=df_tfidf.columns)"
   ]
  },
  {
   "cell_type": "code",
   "execution_count": null,
   "metadata": {},
   "outputs": [],
   "source": [
    "# sim = tfidf.T.corr(method=distance.jaccard)"
   ]
  }
 ],
 "metadata": {
  "language_info": {
   "codemirror_mode": {
    "name": "ipython",
    "version": 3
   },
   "file_extension": ".py",
   "mimetype": "text/x-python",
   "name": "python",
   "nbconvert_exporter": "python",
   "pygments_lexer": "ipython3",
   "version": "3.7.5-final"
  },
  "orig_nbformat": 2,
  "kernelspec": {
   "name": "python37564bitenvvenv0051dd1aa89b40c684020d4944b45907",
   "display_name": "Python 3.7.5 64-bit ('.env': venv)"
  }
 },
 "nbformat": 4,
 "nbformat_minor": 2
}